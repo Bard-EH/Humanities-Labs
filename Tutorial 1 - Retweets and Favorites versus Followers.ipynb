{
 "cells": [
  {
   "cell_type": "markdown",
   "metadata": {},
   "source": [
    "## Twitter Archiver:  Retweets and Favorites versus Followers"
   ]
  },
  {
   "cell_type": "markdown",
   "metadata": {},
   "source": [
    "Twitter encapsulates a vast amount of data from around the globe (and beyond it)."
   ]
  },
  {
   "cell_type": "markdown",
   "metadata": {},
   "source": [
    "Thanks to <a href=\"http://www.labnol.org/about/\">Amit Agarwal</a>, this data is now at our fingertips."
   ]
  },
  {
   "cell_type": "markdown",
   "metadata": {},
   "source": [
    "From his <a href=\"http://www.labnol.org/internet/save-twitter-hashtag-tweets/6505/\">blog post</a>:\n"
   ]
  },
  {
   "cell_type": "markdown",
   "metadata": {},
   "source": [
    "<blockquote cite=\"http://www.labnol.org/internet/save-twitter-hashtag-tweets/6505/\">\n",
    "Wouldn’t it be nice if Twitter had an Export button? You search for a trending #hashtag, or an old tweet, or your brand name, and all the matching tweets get saved in an Excel or Google spreadsheet. And this archive would just update itself in the background as new tweets arrive.\n",
    "</blockquote>"
   ]
  },
  {
   "cell_type": "markdown",
   "metadata": {},
   "source": [
    "Well, <a href=\"https://chrome.google.com/webstore/detail/twitter-archiver/pkanpfekacaojdncfgbjadedbggbbphi\">Twitter Archiver</a> makes this possible.\n"
   ]
  },
  {
   "cell_type": "markdown",
   "metadata": {},
   "source": [
    "This tutorial will serve as a basic introduction to the tool as well as a potential use for the data collected.\n"
   ]
  },
  {
   "cell_type": "markdown",
   "metadata": {},
   "source": [
    "After installing Twitter Archiver, the first step is to make a new Google spreadsheet.\n"
   ]
  },
  {
   "cell_type": "markdown",
   "metadata": {},
   "source": [
    "Once that's done, go to Add-ons -> Twitter Archiver -> Authorize Twitter\n"
   ]
  },
  {
   "cell_type": "markdown",
   "metadata": {},
   "source": [
    "<img src=\"http://s22.postimg.org/l6xdy8ob5/Screen_Shot_2016_02_01_at_3_58_42_PM.png\" width=\"512\">\n"
   ]
  },
  {
   "cell_type": "markdown",
   "metadata": {},
   "source": [
    "Authorize Twitter"
   ]
  },
  {
   "cell_type": "markdown",
   "metadata": {},
   "source": [
    "<img src=\"http://s22.postimg.org/keupz1k41/Screen_Shot_2016_02_01_at_3_59_13_PM.png\" width=\"512\">\n"
   ]
  },
  {
   "cell_type": "markdown",
   "metadata": {},
   "source": [
    "Next, you will be prompted to create a search rule."
   ]
  },
  {
   "cell_type": "markdown",
   "metadata": {},
   "source": [
    "<img src=\"http://s22.postimg.org/4unc8i9zl/Screen_Shot_2016_02_01_at_4_03_50_PM.png\" width=\"512\">\n"
   ]
  },
  {
   "cell_type": "markdown",
   "metadata": {},
   "source": [
    "For the \"Advanced Rules\" section, check out <a href=\"http://www.labnol.org/internet/twitter-search-tricks/13693/\">this blog post</a>.\n"
   ]
  },
  {
   "cell_type": "markdown",
   "metadata": {},
   "source": [
    "As soon as you've decided on a phrase, hashtag, or user, click \"Start Tracking\" and begin populating your spreadsheet. You may see a box in the bottom right of your screen, but it should disappear after the initial twitter scraping is done. \n"
   ]
  },
  {
   "cell_type": "markdown",
   "metadata": {},
   "source": [
    "<img src=\"http://s22.postimg.org/6751ae7f5/Screen_Shot_2016_02_01_at_4_05_26_PM.png\" width=\"256\">\n"
   ]
  },
  {
   "cell_type": "markdown",
   "metadata": {},
   "source": [
    "Then you will have a complete spreadsheet containing dates of tweets, user screen names, user full names, tweet content, as well as several other pieces of data pertaining to each individual tweet.\n"
   ]
  },
  {
   "cell_type": "markdown",
   "metadata": {},
   "source": [
    "<img src=\"http://s22.postimg.org/jt5r2xp1t/Screen_Shot_2016_02_01_at_4_08_05_PM.png\" width=\"768\">\n"
   ]
  },
  {
   "cell_type": "markdown",
   "metadata": {},
   "source": [
    "Luckily, the Google spreadsheet can then be exported for Excel or as a CSV.\n"
   ]
  },
  {
   "cell_type": "markdown",
   "metadata": {},
   "source": [
    "\"Why would I want to do that?\" you may ask yourself, but there are more interesting questions to be asked:\n"
   ]
  },
  {
   "cell_type": "markdown",
   "metadata": {},
   "source": [
    "Where do these tweets come from?"
   ]
  },
  {
   "cell_type": "markdown",
   "metadata": {},
   "source": [
    "What kinds of topics make tweets popular?"
   ]
  },
  {
   "cell_type": "markdown",
   "metadata": {},
   "source": [
    "How do Twitter users describe themselves?"
   ]
  },
  {
   "cell_type": "markdown",
   "metadata": {},
   "source": [
    "For this tutorial, we'll aim to answer the following question:"
   ]
  },
  {
   "cell_type": "markdown",
   "metadata": {},
   "source": [
    "\"What influence do followers have on retweets and favorites?\""
   ]
  },
  {
   "cell_type": "markdown",
   "metadata": {},
   "source": [
    "It would be possible to go through the spreadsheet we generated and individually draw comparisons, but no single human should have the capacity to make any significant judgments from this data alone."
   ]
  },
  {
   "cell_type": "markdown",
   "metadata": {},
   "source": [
    "Thus, we will graph it."
   ]
  },
  {
   "cell_type": "markdown",
   "metadata": {},
   "source": [
    "Here, our aim will be to graph retweets and favorites of tweets versus the number of followers of the users who posted those tweets."
   ]
  },
  {
   "cell_type": "markdown",
   "metadata": {},
   "source": [
    "First, we'll perform some Jupyter magic to make our graph live inside the Jupyter window."
   ]
  },
  {
   "cell_type": "code",
   "execution_count": 9,
   "metadata": {
    "collapsed": false
   },
   "outputs": [],
   "source": [
    "%matplotlib inline"
   ]
  },
  {
   "cell_type": "markdown",
   "metadata": {},
   "source": [
    "Next, we import pandas for CSV reading, pyplot for graphing, patches for labeling, and numpy for some math.\n",
    "\n",
    "Then, we set the plot style to something pretty."
   ]
  },
  {
   "cell_type": "code",
   "execution_count": 10,
   "metadata": {
    "collapsed": true
   },
   "outputs": [],
   "source": [
    "import pandas as pd\n",
    "import matplotlib.pyplot as plt\n",
    "import matplotlib.patches as mpatches\n",
    "import numpy as np\n",
    "plt.style.use('ggplot')"
   ]
  },
  {
   "cell_type": "markdown",
   "metadata": {},
   "source": [
    "Read the tweets CSV"
   ]
  },
  {
   "cell_type": "code",
   "execution_count": 11,
   "metadata": {
    "collapsed": true
   },
   "outputs": [],
   "source": [
    "tweets_csv = pd.read_csv(\"Tweets.csv\", header = True, encoding = \"latin1\")"
   ]
  },
  {
   "cell_type": "markdown",
   "metadata": {},
   "source": [
    "Convert it to a python dictionary"
   ]
  },
  {
   "cell_type": "code",
   "execution_count": 12,
   "metadata": {
    "collapsed": true
   },
   "outputs": [],
   "source": [
    "tweets_dict = tweets_csv.to_dict()"
   ]
  },
  {
   "cell_type": "markdown",
   "metadata": {},
   "source": [
    "Make lists of number of followers, number of retweets, and number of favorites"
   ]
  },
  {
   "cell_type": "code",
   "execution_count": 13,
   "metadata": {
    "collapsed": false
   },
   "outputs": [],
   "source": [
    "followers = [value for key, value in tweets_dict[\"Followers\"].items()]"
   ]
  },
  {
   "cell_type": "code",
   "execution_count": 14,
   "metadata": {
    "collapsed": false
   },
   "outputs": [],
   "source": [
    "retweets = [value for key, value in tweets_dict[\"Retweets\"].items()]"
   ]
  },
  {
   "cell_type": "code",
   "execution_count": 15,
   "metadata": {
    "collapsed": true
   },
   "outputs": [],
   "source": [
    "favorites = [value for key, value in tweets_dict[\"Favorites\"].items()]"
   ]
  },
  {
   "cell_type": "markdown",
   "metadata": {},
   "source": [
    "Let's walk through the code step-by-step:"
   ]
  },
  {
   "cell_type": "code",
   "execution_count": 16,
   "metadata": {
    "collapsed": false
   },
   "outputs": [
    {
     "data": {
      "image/png": "[encoded data removed]",
      "text/plain": [
       "<matplotlib.figure.Figure at 0x7fbd7bd5cf60>"
      ]
     },
     "metadata": {},
     "output_type": "display_data"
    }
   ],
   "source": [
    "#First, we set the size of the graph.\n",
    "plt.figure(figsize=(12, 7))\n",
    "#Then we draw scatter plots of followers versus retweets and followers versus favorites.\n",
    "plt.scatter(followers, retweets, color='g', s=15, marker='o')\n",
    "plt.scatter(followers, favorites, color='r', s=15, marker='o')\n",
    "#Then we draw lines connecting the retweet nodes and favorite nodes.\n",
    "for retweet, favorite, follower in list(zip(retweets, favorites, followers)):\n",
    "    if retweet > favorite:\n",
    "        plt.plot([follower, follower], [retweet, favorite], \"g\")\n",
    "    else:\n",
    "        plt.plot([follower, follower], [retweet, favorite], \"r\")\n",
    "#We label the axes and give the graph a title.\n",
    "plt.xlabel('Number of Followers')\n",
    "plt.ylabel('Number of Retweets and Favorites')\n",
    "plt.title('Retweets and Favorites versus Followers')\n",
    "#We create a legend.\n",
    "retweets_patch = mpatches.Patch(color='green', label='Retweets')\n",
    "favorites_patch = mpatches.Patch(color='red', label='Favorites')\n",
    "plt.legend(handles=[retweets_patch, favorites_patch])\n",
    "#We change the scale of the x-axis to be logarithmic.\n",
    "plt.xscale(\"log\")\n",
    "#Finally, we show the plot.\n",
    "plt.show()"
   ]
  },
  {
   "cell_type": "markdown",
   "metadata": {},
   "source": [
    "Above, our graph is a little messy, but it tells us some interesting things. For instance, can it be assumed from this representation of data that the more retweets or favorites a tweet receives, the greater the difference between those retweets and favorites is? Look to the green line between 10<sup>4</sup> and 10<sup>5</sup>. Maybe it's got 9000 favorites but it has around 17500 retweets! Compare that to the tiny dots in the bottom left corner of the graph, which show slightly more retweets than favorites but at such a low number of retweets and favorites, the line connecting the two dots is nearly indistinguishable. "
   ]
  },
  {
   "cell_type": "markdown",
   "metadata": {},
   "source": [
    "Although we didn't show that users with more followers necessarily get more retweets, we did find the aforementioned trend."
   ]
  },
  {
   "cell_type": "markdown",
   "metadata": {},
   "source": [
    "For that reason, I'd say this tutorial has been a success."
   ]
  }
 ],
 "metadata": {
  "kernelspec": {
   "display_name": "Python 3",
   "language": "python",
   "name": "python3"
  },
  "language_info": {
   "codemirror_mode": {
    "name": "ipython",
    "version": 3
   },
   "file_extension": ".py",
   "mimetype": "text/x-python",
   "name": "python",
   "nbconvert_exporter": "python",
   "pygments_lexer": "ipython3",
   "version": "3.4.3"
  }
 },
 "nbformat": 4,
 "nbformat_minor": 0
}
