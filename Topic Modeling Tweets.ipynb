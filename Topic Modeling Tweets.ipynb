{
 "cells": [
  {
   "cell_type": "markdown",
   "metadata": {
    "collapsed": false
   },
   "source": [
    "#Topic Modeling Tweets"
   ]
  },
  {
   "cell_type": "markdown",
   "metadata": {},
   "source": [
    "Using tweets with the hashtag #micropoetry to better understand the popularity of poetic topics in the post internet age"
   ]
  },
  {
   "cell_type": "markdown",
   "metadata": {},
   "source": [
    "import stuff"
   ]
  },
  {
   "cell_type": "code",
   "execution_count": 57,
   "metadata": {
    "collapsed": true
   },
   "outputs": [],
   "source": [
    "import os\n",
    "import glob\n",
    "import numpy as np\n",
    "import sklearn.feature_extraction.text as text\n",
    "from sklearn import decomposition\n",
    "import matplotlib.pyplot as plt\n",
    "import operator\n",
    "import pandas as pd\n",
    "import re\n",
    "import operator"
   ]
  },
  {
   "cell_type": "markdown",
   "metadata": {},
   "source": [
    "put tweets in a list"
   ]
  },
  {
   "cell_type": "code",
   "execution_count": 58,
   "metadata": {
    "collapsed": true
   },
   "outputs": [],
   "source": [
    "filenames = sorted(glob.glob('twitter/Individual Tweets/*'))[:1000]"
   ]
  },
  {
   "cell_type": "markdown",
   "metadata": {},
   "source": [
    "We're only using the first thousand tweets"
   ]
  },
  {
   "cell_type": "code",
   "execution_count": 59,
   "metadata": {
    "collapsed": false
   },
   "outputs": [
    {
     "name": "stdout",
     "output_type": "stream",
     "text": [
      "1000\n"
     ]
    }
   ],
   "source": [
    "print(len(filenames))"
   ]
  },
  {
   "cell_type": "markdown",
   "metadata": {},
   "source": [
    "check the first 5 tweets"
   ]
  },
  {
   "cell_type": "code",
   "execution_count": 60,
   "metadata": {
    "collapsed": false,
    "scrolled": false
   },
   "outputs": [
    {
     "name": "stdout",
     "output_type": "stream",
     "text": [
      "['twitter/Individual Tweets/00001.txt', 'twitter/Individual Tweets/00002.txt', 'twitter/Individual Tweets/00003.txt', 'twitter/Individual Tweets/00004.txt', 'twitter/Individual Tweets/00005.txt']\n"
     ]
    }
   ],
   "source": [
    "print(filenames[:5])"
   ]
  },
  {
   "cell_type": "markdown",
   "metadata": {},
   "source": [
    "Convert the collection of text documents to a matrix of token counts:\n",
    "\n",
    "http://scikit-learn.org/stable/modules/generated/sklearn.feature_extraction.text.CountVectorizer.html"
   ]
  },
  {
   "cell_type": "code",
   "execution_count": 61,
   "metadata": {
    "collapsed": true
   },
   "outputs": [],
   "source": [
    "vectorizer = text.CountVectorizer(input='filename', stop_words='english', min_df=20)"
   ]
  },
  {
   "cell_type": "markdown",
   "metadata": {},
   "source": [
    "documentation on fit_transform and get_feature_names:\n",
    "\n",
    "http://scikit-learn.org/stable/modules/feature_extraction.html"
   ]
  },
  {
   "cell_type": "code",
   "execution_count": 62,
   "metadata": {
    "collapsed": false
   },
   "outputs": [],
   "source": [
    "dtm = vectorizer.fit_transform(filenames).toarray()"
   ]
  },
  {
   "cell_type": "code",
   "execution_count": 63,
   "metadata": {
    "collapsed": false
   },
   "outputs": [],
   "source": [
    "vocab = np.array(vectorizer.get_feature_names())"
   ]
  },
  {
   "cell_type": "code",
   "execution_count": 64,
   "metadata": {
    "collapsed": false
   },
   "outputs": [
    {
     "name": "stdout",
     "output_type": "stream",
     "text": [
      "(1000, 26)\n"
     ]
    }
   ],
   "source": [
    "print(dtm.shape)"
   ]
  },
  {
   "cell_type": "code",
   "execution_count": 65,
   "metadata": {
    "collapsed": false
   },
   "outputs": [
    {
     "name": "stdout",
     "output_type": "stream",
     "text": [
      "26\n"
     ]
    }
   ],
   "source": [
    "print(len(vocab))"
   ]
  },
  {
   "cell_type": "markdown",
   "metadata": {},
   "source": [
    "Set how many topics we want"
   ]
  },
  {
   "cell_type": "code",
   "execution_count": 66,
   "metadata": {
    "collapsed": true
   },
   "outputs": [],
   "source": [
    "num_topics = 10"
   ]
  },
  {
   "cell_type": "markdown",
   "metadata": {},
   "source": [
    "Set how many words we want in each topic"
   ]
  },
  {
   "cell_type": "code",
   "execution_count": 67,
   "metadata": {
    "collapsed": true
   },
   "outputs": [],
   "source": [
    "num_top_words = 20"
   ]
  },
  {
   "cell_type": "markdown",
   "metadata": {},
   "source": [
    "Non-Negative Matrix Factorization (NMF)\n",
    "\n",
    "Find two non-negative matrices (W, H) whose product approximates the non- negative matrix X.\n",
    "\n",
    "http://scikit-learn.org/stable/modules/generated/sklearn.decomposition.NMF.html"
   ]
  },
  {
   "cell_type": "code",
   "execution_count": 68,
   "metadata": {
    "collapsed": true
   },
   "outputs": [],
   "source": [
    "clf = decomposition.NMF(n_components=num_topics, random_state=1)"
   ]
  },
  {
   "cell_type": "code",
   "execution_count": 69,
   "metadata": {
    "collapsed": false
   },
   "outputs": [
    {
     "name": "stderr",
     "output_type": "stream",
     "text": [
      "/Users/Noah/anaconda/lib/python3.4/site-packages/sklearn/decomposition/nmf.py:532: UserWarning: Iteration limit reached during fit. Solving for W exactly.\n",
      "  warnings.warn(\"Iteration limit reached during fit. Solving for W exactly.\")\n"
     ]
    }
   ],
   "source": [
    "doctopic = clf.fit_transform(dtm)"
   ]
  },
  {
   "cell_type": "code",
   "execution_count": 70,
   "metadata": {
    "collapsed": true
   },
   "outputs": [],
   "source": [
    "topic_words = []"
   ]
  },
  {
   "cell_type": "code",
   "execution_count": 71,
   "metadata": {
    "collapsed": true
   },
   "outputs": [],
   "source": [
    "for topic in clf.components_:\n",
    "    word_idx = np.argsort(topic)[::-1][0:num_top_words]\n",
    "    topic_words.append([vocab[i] for i in word_idx])"
   ]
  },
  {
   "cell_type": "code",
   "execution_count": 72,
   "metadata": {
    "collapsed": false
   },
   "outputs": [],
   "source": [
    "doctopic = doctopic / np.sum(doctopic, axis=1, keepdims=True)"
   ]
  },
  {
   "cell_type": "markdown",
   "metadata": {},
   "source": [
    "make an empty list"
   ]
  },
  {
   "cell_type": "code",
   "execution_count": 73,
   "metadata": {
    "collapsed": true
   },
   "outputs": [],
   "source": [
    "novel_names = []"
   ]
  },
  {
   "cell_type": "markdown",
   "metadata": {},
   "source": [
    "fill the list with file names 0-1000"
   ]
  },
  {
   "cell_type": "code",
   "execution_count": 74,
   "metadata": {
    "collapsed": false
   },
   "outputs": [],
   "source": [
    "for fn in filenames:\n",
    "    basename = os.path.basename(fn)\n",
    "    name, ext = os.path.splitext(basename)\n",
    "    novel_names.append(name)"
   ]
  },
  {
   "cell_type": "markdown",
   "metadata": {},
   "source": [
    "make the list an array"
   ]
  },
  {
   "cell_type": "code",
   "execution_count": 75,
   "metadata": {
    "collapsed": true
   },
   "outputs": [],
   "source": [
    "novel_names = np.asarray(novel_names)"
   ]
  },
  {
   "cell_type": "code",
   "execution_count": 76,
   "metadata": {
    "collapsed": true
   },
   "outputs": [],
   "source": [
    "doctopic_orig = doctopic.copy()"
   ]
  },
  {
   "cell_type": "code",
   "execution_count": 77,
   "metadata": {
    "collapsed": true
   },
   "outputs": [],
   "source": [
    "num_groups = len(set(novel_names))"
   ]
  },
  {
   "cell_type": "code",
   "execution_count": 78,
   "metadata": {
    "collapsed": true
   },
   "outputs": [],
   "source": [
    "doctopic_grouped = np.zeros((num_groups, num_topics))"
   ]
  },
  {
   "cell_type": "code",
   "execution_count": 79,
   "metadata": {
    "collapsed": true
   },
   "outputs": [],
   "source": [
    "for i, name in enumerate(sorted(set(novel_names))):\n",
    "    doctopic_grouped[i, :] = np.mean(doctopic[novel_names == name, :], axis=0)"
   ]
  },
  {
   "cell_type": "code",
   "execution_count": 80,
   "metadata": {
    "collapsed": true
   },
   "outputs": [],
   "source": [
    "doctopic = doctopic_grouped"
   ]
  },
  {
   "cell_type": "code",
   "execution_count": 81,
   "metadata": {
    "collapsed": true
   },
   "outputs": [],
   "source": [
    "novels = sorted(set(novel_names))"
   ]
  },
  {
   "cell_type": "code",
   "execution_count": 82,
   "metadata": {
    "collapsed": false,
    "scrolled": true
   },
   "outputs": [],
   "source": [
    "d = {}\n",
    "for i in range(len(doctopic)):\n",
    "    top_topics = np.argsort(doctopic[i,:])[::-1][0:1]\n",
    "    top_topics_str = ' '.join(str(t) for t in top_topics)\n",
    "    d[novels[i]] = top_topics_str\n",
    "    #print(\"{}: {}\".format(novels[i], top_topics_str))\n",
    "s = sorted(d.items(), key=operator.itemgetter(0))\n"
   ]
  },
  {
   "cell_type": "markdown",
   "metadata": {},
   "source": [
    "open up a comma-separated values sheet"
   ]
  },
  {
   "cell_type": "code",
   "execution_count": 83,
   "metadata": {
    "collapsed": true
   },
   "outputs": [],
   "source": [
    "micro_poems_csv = pd.read_csv('micro_poetry.csv', header=True, encoding='latin1')"
   ]
  },
  {
   "cell_type": "code",
   "execution_count": 84,
   "metadata": {
    "collapsed": false
   },
   "outputs": [
    {
     "data": {
      "text/plain": [
       "21632"
      ]
     },
     "execution_count": 84,
     "metadata": {},
     "output_type": "execute_result"
    }
   ],
   "source": [
    "len(micro_poems_csv)"
   ]
  },
  {
   "cell_type": "markdown",
   "metadata": {},
   "source": [
    "make a dictionary out of it"
   ]
  },
  {
   "cell_type": "code",
   "execution_count": 85,
   "metadata": {
    "collapsed": true
   },
   "outputs": [],
   "source": [
    "micro_poems_dict = micro_poems_csv.to_dict()"
   ]
  },
  {
   "cell_type": "markdown",
   "metadata": {},
   "source": [
    "make a list of tweets"
   ]
  },
  {
   "cell_type": "code",
   "execution_count": 86,
   "metadata": {
    "collapsed": true
   },
   "outputs": [],
   "source": [
    "l = [value for key, value in micro_poems_dict[\"Tweet Text\"].items()]"
   ]
  },
  {
   "cell_type": "markdown",
   "metadata": {},
   "source": [
    "clean up the tweets"
   ]
  },
  {
   "cell_type": "code",
   "execution_count": 87,
   "metadata": {
    "collapsed": true
   },
   "outputs": [],
   "source": [
    "l2 = []\n",
    "for tweet in l:\n",
    "    tweet = tweet.replace(\"RT\", \"\")\n",
    "    tweet = ' '.join(re.sub(\"(\\#[A-Za-z0-9_]+)|(@[A-Za-z0-9_]+)|([^0-9A-Za-z \\t])|(\\w+:\\/\\/\\S+)\", \"\", tweet).split())\n",
    "    tweet = ' '.join(re.sub(\"( tco[A-Za-z0-9]+)\", \"\", tweet).split())\n",
    "    tweet = tweet.replace(\"https\", \"\")\n",
    "    tweet = tweet.replace(\"http\", \"\")\n",
    "    tweet = tweet.lower()\n",
    "    l2.append(tweet)"
   ]
  },
  {
   "cell_type": "markdown",
   "metadata": {},
   "source": [
    "make a dictionary containing the tweets as keys and the number of occurrences as values"
   ]
  },
  {
   "cell_type": "code",
   "execution_count": 88,
   "metadata": {
    "collapsed": true
   },
   "outputs": [],
   "source": [
    "d = {}\n",
    "for tweet in l2:\n",
    "    if tweet not in d:\n",
    "        d[tweet] = 1\n",
    "    else:\n",
    "        d[tweet] += 1"
   ]
  },
  {
   "cell_type": "markdown",
   "metadata": {},
   "source": [
    "make a list of file names"
   ]
  },
  {
   "cell_type": "code",
   "execution_count": 89,
   "metadata": {
    "collapsed": false
   },
   "outputs": [],
   "source": [
    "l3 = [tup[0] for tup in s]"
   ]
  },
  {
   "cell_type": "markdown",
   "metadata": {},
   "source": [
    "make a list of favorites tweet"
   ]
  },
  {
   "cell_type": "code",
   "execution_count": 90,
   "metadata": {
    "collapsed": true
   },
   "outputs": [],
   "source": [
    "l4 = [value for key, value in micro_poems_dict[\"Favorites\"].items()]"
   ]
  },
  {
   "cell_type": "markdown",
   "metadata": {},
   "source": [
    "make a list of top topics per tweet"
   ]
  },
  {
   "cell_type": "code",
   "execution_count": 91,
   "metadata": {
    "collapsed": false
   },
   "outputs": [],
   "source": [
    "l5 = []\n",
    "for tup in s:\n",
    "    l5.append(tup[1])"
   ]
  },
  {
   "cell_type": "markdown",
   "metadata": {},
   "source": [
    "make a list of tuples, containing the top topic in a tweet and the number of favorites in that tweet"
   ]
  },
  {
   "cell_type": "code",
   "execution_count": 92,
   "metadata": {
    "collapsed": false,
    "scrolled": true
   },
   "outputs": [],
   "source": [
    "s2 = list(zip(l5, l4))"
   ]
  },
  {
   "cell_type": "markdown",
   "metadata": {},
   "source": [
    "plot the favorites per topic"
   ]
  },
  {
   "cell_type": "code",
   "execution_count": 116,
   "metadata": {
    "collapsed": false
   },
   "outputs": [],
   "source": [
    "plt.scatter(*zip(*s2), color='g', s=30, marker='o', alpha=.4)\n",
    "plt.xticks(np.arange(10))\n",
    "#plt.yticks(np.arange(0, 1000))\n",
    "plt.title('Favorites per Topic')\n",
    "plt.xlabel('Topics')\n",
    "plt.ylabel('Favorites')\n",
    "plt.show()"
   ]
  },
  {
   "cell_type": "markdown",
   "metadata": {
    "collapsed": true
   },
   "source": [
    "Show the content of the topics"
   ]
  },
  {
   "cell_type": "code",
   "execution_count": 94,
   "metadata": {
    "collapsed": false
   },
   "outputs": [
    {
     "name": "stdout",
     "output_type": "stream",
     "text": [
      "Topic 0: moon night stars leaves deep wind just light winter like away clouds day eyes heart\n",
      "Topic 1: like morning wind stars autumn just away leaves rain words light clouds day deep eyes\n",
      "Topic 2: sky clouds deep snow stars wind sun just autumn night rain old away leaves day\n",
      "Topic 3: heart words just deep stars old snow winter day world light away clouds eyes leaves\n",
      "Topic 4: sun winter snow clouds rain old world morning wind night away leaves eyes heart day\n",
      "Topic 5: eyes away wind world leaves heart morning stars like clouds day deep just light moon\n",
      "Topic 6: day night rain away autumn morning clouds leaves just world old deep sun sky snow\n",
      "Topic 7: love old deep day heart just sun like moon away clouds eyes leaves light world\n",
      "Topic 8: time leaves words clouds just old stars winter wind night world away day deep eyes\n",
      "Topic 9: light world clouds morning words love away day deep eyes heart just leaves like moon\n"
     ]
    }
   ],
   "source": [
    "for t in range(len(topic_words)):\n",
    "    print(\"Topic {}: {}\".format(t, ' '.join(topic_words[t][:15])))"
   ]
  },
  {
   "cell_type": "code",
   "execution_count": 95,
   "metadata": {
    "collapsed": true
   },
   "outputs": [],
   "source": [
    "my_dpi = 227"
   ]
  },
  {
   "cell_type": "markdown",
   "metadata": {},
   "source": [
    "Set the size of the plot"
   ]
  },
  {
   "cell_type": "code",
   "execution_count": 96,
   "metadata": {
    "collapsed": false
   },
   "outputs": [
    {
     "data": {
      "text/plain": [
       "<matplotlib.figure.Figure at 0x103f24cf8>"
      ]
     },
     "execution_count": 96,
     "metadata": {},
     "output_type": "execute_result"
    }
   ],
   "source": [
    "plt.figure(figsize=(32000/my_dpi, 4000/my_dpi), dpi=my_dpi)"
   ]
  },
  {
   "cell_type": "code",
   "execution_count": 97,
   "metadata": {
    "collapsed": false,
    "scrolled": false
   },
   "outputs": [
    {
     "name": "stdout",
     "output_type": "stream",
     "text": [
      "1000 10\n"
     ]
    }
   ],
   "source": [
    "N, K = doctopic.shape\n",
    "print(N, K)"
   ]
  },
  {
   "cell_type": "code",
   "execution_count": 98,
   "metadata": {
    "collapsed": false,
    "scrolled": true
   },
   "outputs": [],
   "source": [
    "ind = np.arange(N)"
   ]
  },
  {
   "cell_type": "code",
   "execution_count": 99,
   "metadata": {
    "collapsed": true
   },
   "outputs": [],
   "source": [
    "width = 1"
   ]
  },
  {
   "cell_type": "code",
   "execution_count": 100,
   "metadata": {
    "collapsed": true
   },
   "outputs": [],
   "source": [
    "plots = []"
   ]
  },
  {
   "cell_type": "code",
   "execution_count": 101,
   "metadata": {
    "collapsed": true
   },
   "outputs": [],
   "source": [
    "height_cumulative = np.zeros(N)"
   ]
  },
  {
   "cell_type": "markdown",
   "metadata": {},
   "source": [
    "plot the bars"
   ]
  },
  {
   "cell_type": "code",
   "execution_count": 102,
   "metadata": {
    "collapsed": false
   },
   "outputs": [],
   "source": [
    "for k in range(K):\n",
    "    color = plt.cm.PiYG(k/K, 1)\n",
    "    if k == 0:\n",
    "        p = plt.bar(ind, doctopic[:, k], width, color=color)\n",
    "    else:\n",
    "        p = plt.bar(ind, doctopic[:, k], width, bottom=height_cumulative, color=color)\n",
    "    height_cumulative += doctopic[:, k]\n",
    "    plots.append(p)\n",
    "    "
   ]
  },
  {
   "cell_type": "code",
   "execution_count": 103,
   "metadata": {
    "collapsed": false
   },
   "outputs": [
    {
     "data": {
      "text/plain": [
       "(0, 1)"
      ]
     },
     "execution_count": 103,
     "metadata": {},
     "output_type": "execute_result"
    }
   ],
   "source": [
    "plt.ylim((0, 1))"
   ]
  },
  {
   "cell_type": "markdown",
   "metadata": {},
   "source": [
    "label the y axis"
   ]
  },
  {
   "cell_type": "code",
   "execution_count": 104,
   "metadata": {
    "collapsed": false
   },
   "outputs": [
    {
     "data": {
      "text/plain": [
       "<matplotlib.text.Text at 0x11ad5da90>"
      ]
     },
     "execution_count": 104,
     "metadata": {},
     "output_type": "execute_result"
    }
   ],
   "source": [
    "plt.ylabel('Topics')"
   ]
  },
  {
   "cell_type": "markdown",
   "metadata": {},
   "source": [
    "label the x axis"
   ]
  },
  {
   "cell_type": "code",
   "execution_count": 105,
   "metadata": {
    "collapsed": false
   },
   "outputs": [
    {
     "data": {
      "text/plain": [
       "<matplotlib.text.Text at 0x10ab20780>"
      ]
     },
     "execution_count": 105,
     "metadata": {},
     "output_type": "execute_result"
    }
   ],
   "source": [
    "plt.xlabel('Tweets')"
   ]
  },
  {
   "cell_type": "markdown",
   "metadata": {},
   "source": [
    "give the plot a title"
   ]
  },
  {
   "cell_type": "code",
   "execution_count": 106,
   "metadata": {
    "collapsed": false
   },
   "outputs": [
    {
     "data": {
      "text/plain": [
       "<matplotlib.text.Text at 0x11ac1afd0>"
      ]
     },
     "execution_count": 106,
     "metadata": {},
     "output_type": "execute_result"
    }
   ],
   "source": [
    "plt.title('Topics in tweets')"
   ]
  },
  {
   "cell_type": "markdown",
   "metadata": {},
   "source": [
    "Use the filenames as tickmarks on the x axis"
   ]
  },
  {
   "cell_type": "code",
   "execution_count": 107,
   "metadata": {
    "collapsed": true
   },
   "outputs": [
    {
     "data": {
      "text/plain": [
       "([<matplotlib.axis.XTick at 0x11b77d588>,\n",
       "  <matplotlib.axis.XTick at 0x11ac357b8>,\n",
       "  <matplotlib.axis.XTick at 0x1088776d8>,\n",
       "  <matplotlib.axis.XTick at 0x11ac3f630>,\n",
       "  <matplotlib.axis.XTick at 0x14e9d0048>,\n",
       "  <matplotlib.axis.XTick at 0x14e9d0a58>,\n",
       "  <matplotlib.axis.XTick at 0x14e9d44a8>,\n",
       "  <matplotlib.axis.XTick at 0x14e9d4eb8>,\n",
       "  <matplotlib.axis.XTick at 0x14e9d7908>,\n",
       "  <matplotlib.axis.XTick at 0x14e9db358>,\n",
       "  <matplotlib.axis.XTick at 0x14e9dbd68>,\n",
       "  <matplotlib.axis.XTick at 0x14e9df7b8>,\n",
       "  <matplotlib.axis.XTick at 0x14e9e3208>,\n",
       "  <matplotlib.axis.XTick at 0x14e9e3c18>,\n",
       "  <matplotlib.axis.XTick at 0x14e9e7668>,\n",
       "  <matplotlib.axis.XTick at 0x14e9eb0b8>,\n",
       "  <matplotlib.axis.XTick at 0x14e9ebac8>,\n",
       "  <matplotlib.axis.XTick at 0x14e9ef518>,\n",
       "  <matplotlib.axis.XTick at 0x14e9eff28>,\n",
       "  <matplotlib.axis.XTick at 0x14e9f3978>,\n",
       "  <matplotlib.axis.XTick at 0x14e9f63c8>,\n",
       "  <matplotlib.axis.XTick at 0x14e9f6dd8>,\n",
       "  <matplotlib.axis.XTick at 0x14e9fc828>,\n",
       "  <matplotlib.axis.XTick at 0x14eb00278>,\n",
       "  <matplotlib.axis.XTick at 0x14eb00c88>,\n",
       "  <matplotlib.axis.XTick at 0x14eb046d8>,\n",
       "  <matplotlib.axis.XTick at 0x14eb08128>,\n",
       "  <matplotlib.axis.XTick at 0x14eb08b38>,\n",
       "  <matplotlib.axis.XTick at 0x14eb0b588>,\n",
       "  <matplotlib.axis.XTick at 0x14eb0bf98>,\n",
       "  <matplotlib.axis.XTick at 0x14eb119e8>,\n",
       "  <matplotlib.axis.XTick at 0x14eb14438>,\n",
       "  <matplotlib.axis.XTick at 0x14eb14e48>,\n",
       "  <matplotlib.axis.XTick at 0x14eb18898>,\n",
       "  <matplotlib.axis.XTick at 0x14eb1c2e8>,\n",
       "  <matplotlib.axis.XTick at 0x14eb1ccf8>,\n",
       "  <matplotlib.axis.XTick at 0x14eb20748>,\n",
       "  <matplotlib.axis.XTick at 0x14eb25198>,\n",
       "  <matplotlib.axis.XTick at 0x14eb25ba8>,\n",
       "  <matplotlib.axis.XTick at 0x14eb285f8>,\n",
       "  <matplotlib.axis.XTick at 0x14eb2d048>,\n",
       "  <matplotlib.axis.XTick at 0x14eb2da58>,\n",
       "  <matplotlib.axis.XTick at 0x14eb314a8>,\n",
       "  <matplotlib.axis.XTick at 0x14eb31eb8>,\n",
       "  <matplotlib.axis.XTick at 0x14eb38908>,\n",
       "  <matplotlib.axis.XTick at 0x14eb3a358>,\n",
       "  <matplotlib.axis.XTick at 0x14eb3ad68>,\n",
       "  <matplotlib.axis.XTick at 0x14eb3e7b8>,\n",
       "  <matplotlib.axis.XTick at 0x14eb43208>,\n",
       "  <matplotlib.axis.XTick at 0x14eb43c18>,\n",
       "  <matplotlib.axis.XTick at 0x14eb47668>,\n",
       "  <matplotlib.axis.XTick at 0x14eb4c0b8>,\n",
       "  <matplotlib.axis.XTick at 0x14eb4cac8>,\n",
       "  <matplotlib.axis.XTick at 0x14eb4e518>,\n",
       "  <matplotlib.axis.XTick at 0x14eb4ef28>,\n",
       "  <matplotlib.axis.XTick at 0x14eb53978>,\n",
       "  <matplotlib.axis.XTick at 0x14eb573c8>,\n",
       "  <matplotlib.axis.XTick at 0x14eb57dd8>,\n",
       "  <matplotlib.axis.XTick at 0x14eb5b828>,\n",
       "  <matplotlib.axis.XTick at 0x14eb60278>,\n",
       "  <matplotlib.axis.XTick at 0x14eb60c88>,\n",
       "  <matplotlib.axis.XTick at 0x14eb626d8>,\n",
       "  <matplotlib.axis.XTick at 0x14eb67128>,\n",
       "  <matplotlib.axis.XTick at 0x14eb67b38>,\n",
       "  <matplotlib.axis.XTick at 0x14eb6c588>,\n",
       "  <matplotlib.axis.XTick at 0x14eb6cf98>,\n",
       "  <matplotlib.axis.XTick at 0x14eb6f9e8>,\n",
       "  <matplotlib.axis.XTick at 0x14eb75438>,\n",
       "  <matplotlib.axis.XTick at 0x14eb75e48>,\n",
       "  <matplotlib.axis.XTick at 0x14eb78898>,\n",
       "  <matplotlib.axis.XTick at 0x14eb7d2e8>,\n",
       "  <matplotlib.axis.XTick at 0x14eb7dcf8>,\n",
       "  <matplotlib.axis.XTick at 0x14eb81748>,\n",
       "  <matplotlib.axis.XTick at 0x14eb83198>,\n",
       "  <matplotlib.axis.XTick at 0x14eb83ba8>,\n",
       "  <matplotlib.axis.XTick at 0x14eb8a5f8>,\n",
       "  <matplotlib.axis.XTick at 0x14eb8d048>,\n",
       "  <matplotlib.axis.XTick at 0x14eb8da58>,\n",
       "  <matplotlib.axis.XTick at 0x14eb904a8>,\n",
       "  <matplotlib.axis.XTick at 0x14eb90eb8>,\n",
       "  <matplotlib.axis.XTick at 0x14eb95908>,\n",
       "  <matplotlib.axis.XTick at 0x14eb97358>,\n",
       "  <matplotlib.axis.XTick at 0x14eb97d68>,\n",
       "  <matplotlib.axis.XTick at 0x14eb9e7b8>,\n",
       "  <matplotlib.axis.XTick at 0x14eba2208>,\n",
       "  <matplotlib.axis.XTick at 0x14eba2c18>,\n",
       "  <matplotlib.axis.XTick at 0x14eba6668>,\n",
       "  <matplotlib.axis.XTick at 0x14ebaa0b8>,\n",
       "  <matplotlib.axis.XTick at 0x14ebaaac8>,\n",
       "  <matplotlib.axis.XTick at 0x14ebac518>,\n",
       "  <matplotlib.axis.XTick at 0x14ebacf28>,\n",
       "  <matplotlib.axis.XTick at 0x14ebb2978>,\n",
       "  <matplotlib.axis.XTick at 0x14ebb63c8>,\n",
       "  <matplotlib.axis.XTick at 0x14ebb6dd8>,\n",
       "  <matplotlib.axis.XTick at 0x14ebba828>,\n",
       "  <matplotlib.axis.XTick at 0x14ebbe278>,\n",
       "  <matplotlib.axis.XTick at 0x14ebbec88>,\n",
       "  <matplotlib.axis.XTick at 0x14ebc16d8>,\n",
       "  <matplotlib.axis.XTick at 0x14ebc7128>,\n",
       "  <matplotlib.axis.XTick at 0x14ebc7b38>,\n",
       "  <matplotlib.axis.XTick at 0x14ebcc588>,\n",
       "  <matplotlib.axis.XTick at 0x14ebccf98>,\n",
       "  <matplotlib.axis.XTick at 0x14ebcf9e8>,\n",
       "  <matplotlib.axis.XTick at 0x14ebd3438>,\n",
       "  <matplotlib.axis.XTick at 0x14ebd3e48>,\n",
       "  <matplotlib.axis.XTick at 0x14ebd7898>,\n",
       "  <matplotlib.axis.XTick at 0x14ebdc2e8>,\n",
       "  <matplotlib.axis.XTick at 0x14ebdccf8>,\n",
       "  <matplotlib.axis.XTick at 0x14ebe1748>,\n",
       "  <matplotlib.axis.XTick at 0x14ebe4198>,\n",
       "  <matplotlib.axis.XTick at 0x14ebe4ba8>,\n",
       "  <matplotlib.axis.XTick at 0x14ebe85f8>,\n",
       "  <matplotlib.axis.XTick at 0x14ebed048>,\n",
       "  <matplotlib.axis.XTick at 0x14ebeda58>,\n",
       "  <matplotlib.axis.XTick at 0x14ebf14a8>,\n",
       "  <matplotlib.axis.XTick at 0x14ebf1eb8>,\n",
       "  <matplotlib.axis.XTick at 0x14ebf5908>,\n",
       "  <matplotlib.axis.XTick at 0x14ebf8358>,\n",
       "  <matplotlib.axis.XTick at 0x14ebf8d68>,\n",
       "  <matplotlib.axis.XTick at 0x14ebfc7b8>,\n",
       "  <matplotlib.axis.XTick at 0x14ec02208>,\n",
       "  <matplotlib.axis.XTick at 0x14ec02c18>,\n",
       "  <matplotlib.axis.XTick at 0x14ec05668>,\n",
       "  <matplotlib.axis.XTick at 0x14ec080b8>,\n",
       "  <matplotlib.axis.XTick at 0x14ec08ac8>,\n",
       "  <matplotlib.axis.XTick at 0x14ec0d518>,\n",
       "  <matplotlib.axis.XTick at 0x14ec0df28>,\n",
       "  <matplotlib.axis.XTick at 0x14ec11978>,\n",
       "  <matplotlib.axis.XTick at 0x14ec183c8>,\n",
       "  <matplotlib.axis.XTick at 0x14ec18dd8>,\n",
       "  <matplotlib.axis.XTick at 0x14ec1a828>,\n",
       "  <matplotlib.axis.XTick at 0x14ec1d278>,\n",
       "  <matplotlib.axis.XTick at 0x14ec1dc88>,\n",
       "  <matplotlib.axis.XTick at 0x14ec226d8>,\n",
       "  <matplotlib.axis.XTick at 0x14ec25128>,\n",
       "  <matplotlib.axis.XTick at 0x14ec25b38>,\n",
       "  <matplotlib.axis.XTick at 0x14ec2b588>,\n",
       "  <matplotlib.axis.XTick at 0x14ec2bf98>,\n",
       "  <matplotlib.axis.XTick at 0x14ec2e9e8>,\n",
       "  <matplotlib.axis.XTick at 0x14ec32438>,\n",
       "  <matplotlib.axis.XTick at 0x14ec32e48>,\n",
       "  <matplotlib.axis.XTick at 0x14ec36898>,\n",
       "  <matplotlib.axis.XTick at 0x14ec3a2e8>,\n",
       "  <matplotlib.axis.XTick at 0x14ec3acf8>,\n",
       "  <matplotlib.axis.XTick at 0x14ec3f748>,\n",
       "  <matplotlib.axis.XTick at 0x14ec42198>,\n",
       "  <matplotlib.axis.XTick at 0x14ec42ba8>,\n",
       "  <matplotlib.axis.XTick at 0x14ec465f8>,\n",
       "  <matplotlib.axis.XTick at 0x14ec4b048>,\n",
       "  <matplotlib.axis.XTick at 0x14ec4ba58>,\n",
       "  <matplotlib.axis.XTick at 0x14ec4f4a8>,\n",
       "  <matplotlib.axis.XTick at 0x14ec4feb8>,\n",
       "  <matplotlib.axis.XTick at 0x14ec54908>,\n",
       "  <matplotlib.axis.XTick at 0x14ec59358>,\n",
       "  <matplotlib.axis.XTick at 0x14ec59d68>,\n",
       "  <matplotlib.axis.XTick at 0x14ec5c7b8>,\n",
       "  <matplotlib.axis.XTick at 0x14ec60208>,\n",
       "  <matplotlib.axis.XTick at 0x14ec60c18>,\n",
       "  <matplotlib.axis.XTick at 0x14ec64668>,\n",
       "  <matplotlib.axis.XTick at 0x14ec690b8>,\n",
       "  <matplotlib.axis.XTick at 0x14ec69ac8>,\n",
       "  <matplotlib.axis.XTick at 0x14ec6c518>,\n",
       "  <matplotlib.axis.XTick at 0x14ec6cf28>,\n",
       "  <matplotlib.axis.XTick at 0x14ec70978>,\n",
       "  <matplotlib.axis.XTick at 0x14ec753c8>,\n",
       "  <matplotlib.axis.XTick at 0x14ec75dd8>,\n",
       "  <matplotlib.axis.XTick at 0x14ec78828>,\n",
       "  <matplotlib.axis.XTick at 0x14ec7e278>,\n",
       "  <matplotlib.axis.XTick at 0x14ec7ec88>,\n",
       "  <matplotlib.axis.XTick at 0x14ec816d8>,\n",
       "  <matplotlib.axis.XTick at 0x14ec86128>,\n",
       "  <matplotlib.axis.XTick at 0x14ec86b38>,\n",
       "  <matplotlib.axis.XTick at 0x14ec8a588>,\n",
       "  <matplotlib.axis.XTick at 0x14ec8af98>,\n",
       "  <matplotlib.axis.XTick at 0x14ec8e9e8>,\n",
       "  <matplotlib.axis.XTick at 0x14ec93438>,\n",
       "  <matplotlib.axis.XTick at 0x14ec93e48>,\n",
       "  <matplotlib.axis.XTick at 0x14ec95898>,\n",
       "  <matplotlib.axis.XTick at 0x14ec9b2e8>,\n",
       "  <matplotlib.axis.XTick at 0x14ec9bcf8>,\n",
       "  <matplotlib.axis.XTick at 0x14ec9e748>,\n",
       "  <matplotlib.axis.XTick at 0x14eca2198>,\n",
       "  <matplotlib.axis.XTick at 0x14eca2ba8>,\n",
       "  <matplotlib.axis.XTick at 0x14eca75f8>,\n",
       "  <matplotlib.axis.XTick at 0x14ecaa048>,\n",
       "  <matplotlib.axis.XTick at 0x14ecaaa58>,\n",
       "  <matplotlib.axis.XTick at 0x14ecaf4a8>,\n",
       "  <matplotlib.axis.XTick at 0x14ecafeb8>,\n",
       "  <matplotlib.axis.XTick at 0x14ecb2908>,\n",
       "  <matplotlib.axis.XTick at 0x14ecb4358>,\n",
       "  <matplotlib.axis.XTick at 0x14ecb4d68>,\n",
       "  <matplotlib.axis.XTick at 0x14ecbc7b8>,\n",
       "  <matplotlib.axis.XTick at 0x14ecc0208>,\n",
       "  <matplotlib.axis.XTick at 0x14ecc0c18>,\n",
       "  <matplotlib.axis.XTick at 0x14ecc3668>,\n",
       "  <matplotlib.axis.XTick at 0x14ecc70b8>,\n",
       "  <matplotlib.axis.XTick at 0x14ecc7ac8>,\n",
       "  <matplotlib.axis.XTick at 0x14eccb518>,\n",
       "  <matplotlib.axis.XTick at 0x14eccbf28>,\n",
       "  <matplotlib.axis.XTick at 0x14ecd0978>,\n",
       "  <matplotlib.axis.XTick at 0x14ecd43c8>,\n",
       "  <matplotlib.axis.XTick at 0x14ecd4dd8>,\n",
       "  <matplotlib.axis.XTick at 0x14ecd7828>,\n",
       "  <matplotlib.axis.XTick at 0x14ecdc278>,\n",
       "  <matplotlib.axis.XTick at 0x14ecdcc88>,\n",
       "  <matplotlib.axis.XTick at 0x14ecdf6d8>,\n",
       "  <matplotlib.axis.XTick at 0x14ece4128>,\n",
       "  <matplotlib.axis.XTick at 0x14ece4b38>,\n",
       "  <matplotlib.axis.XTick at 0x14ece8588>,\n",
       "  <matplotlib.axis.XTick at 0x14ece8f98>,\n",
       "  <matplotlib.axis.XTick at 0x14ecec9e8>,\n",
       "  <matplotlib.axis.XTick at 0x14ecf2438>,\n",
       "  <matplotlib.axis.XTick at 0x14ecf2e48>,\n",
       "  <matplotlib.axis.XTick at 0x14ecf5898>,\n",
       "  <matplotlib.axis.XTick at 0x14ecfa2e8>,\n",
       "  <matplotlib.axis.XTick at 0x14ecfacf8>,\n",
       "  <matplotlib.axis.XTick at 0x14ecfe748>,\n",
       "  <matplotlib.axis.XTick at 0x14ed42198>,\n",
       "  <matplotlib.axis.XTick at 0x14ed42ba8>,\n",
       "  <matplotlib.axis.XTick at 0x14ed455f8>,\n",
       "  <matplotlib.axis.XTick at 0x14ed4c048>,\n",
       "  <matplotlib.axis.XTick at 0x14ed4ca58>,\n",
       "  <matplotlib.axis.XTick at 0x14ed4e4a8>,\n",
       "  <matplotlib.axis.XTick at 0x14ed4eeb8>,\n",
       "  <matplotlib.axis.XTick at 0x14ed52908>,\n",
       "  <matplotlib.axis.XTick at 0x14ed56358>,\n",
       "  <matplotlib.axis.XTick at 0x14ed56d68>,\n",
       "  <matplotlib.axis.XTick at 0x14ed597b8>,\n",
       "  <matplotlib.axis.XTick at 0x14ed60208>,\n",
       "  <matplotlib.axis.XTick at 0x14ed60c18>,\n",
       "  <matplotlib.axis.XTick at 0x14ed62668>,\n",
       "  <matplotlib.axis.XTick at 0x14ed680b8>,\n",
       "  <matplotlib.axis.XTick at 0x14ed68ac8>,\n",
       "  <matplotlib.axis.XTick at 0x14ed6b518>,\n",
       "  <matplotlib.axis.XTick at 0x14ed6bf28>,\n",
       "  <matplotlib.axis.XTick at 0x14ed6f978>,\n",
       "  <matplotlib.axis.XTick at 0x14ed753c8>,\n",
       "  <matplotlib.axis.XTick at 0x14ed75dd8>,\n",
       "  <matplotlib.axis.XTick at 0x14ed77828>,\n",
       "  <matplotlib.axis.XTick at 0x14ed7b278>,\n",
       "  <matplotlib.axis.XTick at 0x14ed7bc88>,\n",
       "  <matplotlib.axis.XTick at 0x14ed7f6d8>,\n",
       "  <matplotlib.axis.XTick at 0x14ed83128>,\n",
       "  <matplotlib.axis.XTick at 0x14ed83b38>,\n",
       "  <matplotlib.axis.XTick at 0x14ed88588>,\n",
       "  <matplotlib.axis.XTick at 0x14ed88f98>,\n",
       "  <matplotlib.axis.XTick at 0x14ed8c9e8>,\n",
       "  <matplotlib.axis.XTick at 0x14ed8f438>,\n",
       "  <matplotlib.axis.XTick at 0x14ed8fe48>,\n",
       "  <matplotlib.axis.XTick at 0x14ed93898>,\n",
       "  <matplotlib.axis.XTick at 0x14ed972e8>,\n",
       "  <matplotlib.axis.XTick at 0x14ed97cf8>,\n",
       "  <matplotlib.axis.XTick at 0x14ed9c748>,\n",
       "  <matplotlib.axis.XTick at 0x14eda1198>,\n",
       "  <matplotlib.axis.XTick at 0x14eda1ba8>,\n",
       "  <matplotlib.axis.XTick at 0x14eda45f8>,\n",
       "  <matplotlib.axis.XTick at 0x14edaa048>,\n",
       "  <matplotlib.axis.XTick at 0x14edaaa58>,\n",
       "  <matplotlib.axis.XTick at 0x14edac4a8>,\n",
       "  <matplotlib.axis.XTick at 0x14edaceb8>,\n",
       "  <matplotlib.axis.XTick at 0x14edb2908>,\n",
       "  <matplotlib.axis.XTick at 0x14edb5358>,\n",
       "  <matplotlib.axis.XTick at 0x14edb5d68>,\n",
       "  <matplotlib.axis.XTick at 0x14edb87b8>,\n",
       "  <matplotlib.axis.XTick at 0x14edbd208>,\n",
       "  <matplotlib.axis.XTick at 0x14edbdc18>,\n",
       "  <matplotlib.axis.XTick at 0x14edc2668>,\n",
       "  <matplotlib.axis.XTick at 0x14edc70b8>,\n",
       "  <matplotlib.axis.XTick at 0x14edc7ac8>,\n",
       "  <matplotlib.axis.XTick at 0x14edca518>,\n",
       "  <matplotlib.axis.XTick at 0x14edcaf28>,\n",
       "  <matplotlib.axis.XTick at 0x14edcf978>,\n",
       "  <matplotlib.axis.XTick at 0x14edd23c8>,\n",
       "  <matplotlib.axis.XTick at 0x14edd2dd8>,\n",
       "  <matplotlib.axis.XTick at 0x14edd7828>,\n",
       "  <matplotlib.axis.XTick at 0x14eddc278>,\n",
       "  <matplotlib.axis.XTick at 0x14eddcc88>,\n",
       "  <matplotlib.axis.XTick at 0x14edde6d8>,\n",
       "  <matplotlib.axis.XTick at 0x14ede4128>,\n",
       "  <matplotlib.axis.XTick at 0x14ede4b38>,\n",
       "  <matplotlib.axis.XTick at 0x14ede7588>,\n",
       "  <matplotlib.axis.XTick at 0x14ede7f98>,\n",
       "  <matplotlib.axis.XTick at 0x14edec9e8>,\n",
       "  <matplotlib.axis.XTick at 0x14edf0438>,\n",
       "  <matplotlib.axis.XTick at 0x14edf0e48>,\n",
       "  <matplotlib.axis.XTick at 0x14edf3898>,\n",
       "  <matplotlib.axis.XTick at 0x14edf82e8>,\n",
       "  <matplotlib.axis.XTick at 0x14edf8cf8>,\n",
       "  <matplotlib.axis.XTick at 0x14edfb748>,\n",
       "  <matplotlib.axis.XTick at 0x14edff198>,\n",
       "  <matplotlib.axis.XTick at 0x14edffba8>,\n",
       "  <matplotlib.axis.XTick at 0x14ef045f8>,\n",
       "  <matplotlib.axis.XTick at 0x14ef08048>,\n",
       "  <matplotlib.axis.XTick at 0x14ef08a58>,\n",
       "  <matplotlib.axis.XTick at 0x14ef0d4a8>,\n",
       "  <matplotlib.axis.XTick at 0x14ef0deb8>,\n",
       "  <matplotlib.axis.XTick at 0x14ef11908>,\n",
       "  <matplotlib.axis.XTick at 0x14ef14358>,\n",
       "  <matplotlib.axis.XTick at 0x14ef14d68>,\n",
       "  <matplotlib.axis.XTick at 0x14ef197b8>,\n",
       "  <matplotlib.axis.XTick at 0x14ef1d208>,\n",
       "  <matplotlib.axis.XTick at 0x14ef1dc18>,\n",
       "  <matplotlib.axis.XTick at 0x14ef21668>,\n",
       "  <matplotlib.axis.XTick at 0x14ef250b8>,\n",
       "  <matplotlib.axis.XTick at 0x14ef25ac8>,\n",
       "  <matplotlib.axis.XTick at 0x14ef28518>,\n",
       "  <matplotlib.axis.XTick at 0x14ef28f28>,\n",
       "  <matplotlib.axis.XTick at 0x14ef2e978>,\n",
       "  <matplotlib.axis.XTick at 0x14ef313c8>,\n",
       "  <matplotlib.axis.XTick at 0x14ef31dd8>,\n",
       "  <matplotlib.axis.XTick at 0x14ef35828>,\n",
       "  <matplotlib.axis.XTick at 0x14ef39278>,\n",
       "  <matplotlib.axis.XTick at 0x14ef39c88>,\n",
       "  <matplotlib.axis.XTick at 0x14ef3d6d8>,\n",
       "  <matplotlib.axis.XTick at 0x14ef42128>,\n",
       "  <matplotlib.axis.XTick at 0x14ef42b38>,\n",
       "  <matplotlib.axis.XTick at 0x14ef46588>,\n",
       "  <matplotlib.axis.XTick at 0x14ef46f98>,\n",
       "  <matplotlib.axis.XTick at 0x14ef4a9e8>,\n",
       "  <matplotlib.axis.XTick at 0x14ef4e438>,\n",
       "  <matplotlib.axis.XTick at 0x14ef4ee48>,\n",
       "  <matplotlib.axis.XTick at 0x14ef54898>,\n",
       "  <matplotlib.axis.XTick at 0x14ef572e8>,\n",
       "  <matplotlib.axis.XTick at 0x14ef57cf8>,\n",
       "  <matplotlib.axis.XTick at 0x14ef5c748>,\n",
       "  <matplotlib.axis.XTick at 0x14ef5f198>,\n",
       "  <matplotlib.axis.XTick at 0x14ef5fba8>,\n",
       "  <matplotlib.axis.XTick at 0x14ef645f8>,\n",
       "  <matplotlib.axis.XTick at 0x14ef69048>,\n",
       "  <matplotlib.axis.XTick at 0x14ef69a58>,\n",
       "  <matplotlib.axis.XTick at 0x14ef6b4a8>,\n",
       "  <matplotlib.axis.XTick at 0x14ef6beb8>,\n",
       "  <matplotlib.axis.XTick at 0x14ef70908>,\n",
       "  <matplotlib.axis.XTick at 0x14ef73358>,\n",
       "  <matplotlib.axis.XTick at 0x14ef73d68>,\n",
       "  <matplotlib.axis.XTick at 0x14ef787b8>,\n",
       "  <matplotlib.axis.XTick at 0x14ef7e208>,\n",
       "  <matplotlib.axis.XTick at 0x14ef7ec18>,\n",
       "  <matplotlib.axis.XTick at 0x14ef81668>,\n",
       "  <matplotlib.axis.XTick at 0x14ef850b8>,\n",
       "  <matplotlib.axis.XTick at 0x14ef85ac8>,\n",
       "  <matplotlib.axis.XTick at 0x14ef88518>,\n",
       "  <matplotlib.axis.XTick at 0x14ef88f28>,\n",
       "  <matplotlib.axis.XTick at 0x14ef8d978>,\n",
       "  <matplotlib.axis.XTick at 0x14ef923c8>,\n",
       "  <matplotlib.axis.XTick at 0x14ef92dd8>,\n",
       "  <matplotlib.axis.XTick at 0x14ef95828>,\n",
       "  <matplotlib.axis.XTick at 0x14ef99278>,\n",
       "  <matplotlib.axis.XTick at 0x14ef99c88>,\n",
       "  <matplotlib.axis.XTick at 0x14ef9d6d8>,\n",
       "  <matplotlib.axis.XTick at 0x14efa1128>,\n",
       "  <matplotlib.axis.XTick at 0x14efa1b38>,\n",
       "  <matplotlib.axis.XTick at 0x14efa7588>,\n",
       "  <matplotlib.axis.XTick at 0x14efa7f98>,\n",
       "  <matplotlib.axis.XTick at 0x14efa99e8>,\n",
       "  <matplotlib.axis.XTick at 0x14efae438>,\n",
       "  <matplotlib.axis.XTick at 0x14efaee48>,\n",
       "  <matplotlib.axis.XTick at 0x14efb2898>,\n",
       "  <matplotlib.axis.XTick at 0x14efb62e8>,\n",
       "  <matplotlib.axis.XTick at 0x14efb6cf8>,\n",
       "  <matplotlib.axis.XTick at 0x14efbb748>,\n",
       "  <matplotlib.axis.XTick at 0x14efbe198>,\n",
       "  <matplotlib.axis.XTick at 0x14efbeba8>,\n",
       "  <matplotlib.axis.XTick at 0x14efc35f8>,\n",
       "  <matplotlib.axis.XTick at 0x14efc7048>,\n",
       "  <matplotlib.axis.XTick at 0x14efc7a58>,\n",
       "  <matplotlib.axis.XTick at 0x14efcb4a8>,\n",
       "  <matplotlib.axis.XTick at 0x14efcbeb8>,\n",
       "  <matplotlib.axis.XTick at 0x14efcf908>,\n",
       "  <matplotlib.axis.XTick at 0x14efd2358>,\n",
       "  <matplotlib.axis.XTick at 0x14efd2d68>,\n",
       "  <matplotlib.axis.XTick at 0x14efd77b8>,\n",
       "  <matplotlib.axis.XTick at 0x14efda208>,\n",
       "  <matplotlib.axis.XTick at 0x14efdac18>,\n",
       "  <matplotlib.axis.XTick at 0x14efdf668>,\n",
       "  <matplotlib.axis.XTick at 0x14efe30b8>,\n",
       "  <matplotlib.axis.XTick at 0x14efe3ac8>,\n",
       "  <matplotlib.axis.XTick at 0x14efe8518>,\n",
       "  <matplotlib.axis.XTick at 0x14efe8f28>,\n",
       "  <matplotlib.axis.XTick at 0x14efed978>,\n",
       "  <matplotlib.axis.XTick at 0x14eff13c8>,\n",
       "  <matplotlib.axis.XTick at 0x14eff1dd8>,\n",
       "  <matplotlib.axis.XTick at 0x14eff5828>,\n",
       "  <matplotlib.axis.XTick at 0x14eff9278>,\n",
       "  <matplotlib.axis.XTick at 0x14eff9c88>,\n",
       "  <matplotlib.axis.XTick at 0x14effc6d8>,\n",
       "  <matplotlib.axis.XTick at 0x14f101128>,\n",
       "  <matplotlib.axis.XTick at 0x14f101b38>,\n",
       "  <matplotlib.axis.XTick at 0x14f105588>,\n",
       "  <matplotlib.axis.XTick at 0x14f105f98>,\n",
       "  <matplotlib.axis.XTick at 0x14f1099e8>,\n",
       "  <matplotlib.axis.XTick at 0x14f10e438>,\n",
       "  <matplotlib.axis.XTick at 0x14f10ee48>,\n",
       "  <matplotlib.axis.XTick at 0x14f110898>,\n",
       "  <matplotlib.axis.XTick at 0x14f1162e8>,\n",
       "  <matplotlib.axis.XTick at 0x14f116cf8>,\n",
       "  <matplotlib.axis.XTick at 0x14f119748>,\n",
       "  <matplotlib.axis.XTick at 0x14f11e198>,\n",
       "  <matplotlib.axis.XTick at 0x14f11eba8>,\n",
       "  <matplotlib.axis.XTick at 0x14f1235f8>,\n",
       "  <matplotlib.axis.XTick at 0x14f126048>,\n",
       "  <matplotlib.axis.XTick at 0x14f126a58>,\n",
       "  <matplotlib.axis.XTick at 0x14f12b4a8>,\n",
       "  <matplotlib.axis.XTick at 0x14f12beb8>,\n",
       "  <matplotlib.axis.XTick at 0x14f12f908>,\n",
       "  <matplotlib.axis.XTick at 0x14f133358>,\n",
       "  <matplotlib.axis.XTick at 0x14f133d68>,\n",
       "  <matplotlib.axis.XTick at 0x14f1377b8>,\n",
       "  <matplotlib.axis.XTick at 0x14f13a208>,\n",
       "  <matplotlib.axis.XTick at 0x14f13ac18>,\n",
       "  <matplotlib.axis.XTick at 0x14f13f668>,\n",
       "  <matplotlib.axis.XTick at 0x14f1430b8>,\n",
       "  <matplotlib.axis.XTick at 0x14f143ac8>,\n",
       "  <matplotlib.axis.XTick at 0x14f147518>,\n",
       "  <matplotlib.axis.XTick at 0x14f147f28>,\n",
       "  <matplotlib.axis.XTick at 0x14f14b978>,\n",
       "  <matplotlib.axis.XTick at 0x14f14f3c8>,\n",
       "  <matplotlib.axis.XTick at 0x14f14fdd8>,\n",
       "  <matplotlib.axis.XTick at 0x14f152828>,\n",
       "  <matplotlib.axis.XTick at 0x14f158278>,\n",
       "  <matplotlib.axis.XTick at 0x14f158c88>,\n",
       "  <matplotlib.axis.XTick at 0x14f15c6d8>,\n",
       "  <matplotlib.axis.XTick at 0x14f160128>,\n",
       "  <matplotlib.axis.XTick at 0x14f160b38>,\n",
       "  <matplotlib.axis.XTick at 0x14f164588>,\n",
       "  <matplotlib.axis.XTick at 0x14f164f98>,\n",
       "  <matplotlib.axis.XTick at 0x14f1679e8>,\n",
       "  <matplotlib.axis.XTick at 0x14f16d438>,\n",
       "  <matplotlib.axis.XTick at 0x14f16de48>,\n",
       "  <matplotlib.axis.XTick at 0x14f170898>,\n",
       "  <matplotlib.axis.XTick at 0x14f1742e8>,\n",
       "  <matplotlib.axis.XTick at 0x14f174cf8>,\n",
       "  <matplotlib.axis.XTick at 0x14f178748>,\n",
       "  <matplotlib.axis.XTick at 0x14f17d198>,\n",
       "  <matplotlib.axis.XTick at 0x14f17dba8>,\n",
       "  <matplotlib.axis.XTick at 0x14f1825f8>,\n",
       "  <matplotlib.axis.XTick at 0x14f186048>,\n",
       "  <matplotlib.axis.XTick at 0x14f186a58>,\n",
       "  <matplotlib.axis.XTick at 0x14f1894a8>,\n",
       "  <matplotlib.axis.XTick at 0x14f189eb8>,\n",
       "  <matplotlib.axis.XTick at 0x14f18d908>,\n",
       "  <matplotlib.axis.XTick at 0x14f192358>,\n",
       "  <matplotlib.axis.XTick at 0x14f192d68>,\n",
       "  <matplotlib.axis.XTick at 0x14f1967b8>,\n",
       "  <matplotlib.axis.XTick at 0x14f19c208>,\n",
       "  <matplotlib.axis.XTick at 0x14f19cc18>,\n",
       "  <matplotlib.axis.XTick at 0x14f19e668>,\n",
       "  <matplotlib.axis.XTick at 0x14f1a30b8>,\n",
       "  <matplotlib.axis.XTick at 0x14f1a3ac8>,\n",
       "  <matplotlib.axis.XTick at 0x14f1a6518>,\n",
       "  <matplotlib.axis.XTick at 0x14f1a6f28>,\n",
       "  <matplotlib.axis.XTick at 0x14f1aa978>,\n",
       "  <matplotlib.axis.XTick at 0x14f1b03c8>,\n",
       "  <matplotlib.axis.XTick at 0x14f1b0dd8>,\n",
       "  <matplotlib.axis.XTick at 0x14f1b2828>,\n",
       "  <matplotlib.axis.XTick at 0x14f1b7278>,\n",
       "  <matplotlib.axis.XTick at 0x14f1b7c88>,\n",
       "  <matplotlib.axis.XTick at 0x14f1ba6d8>,\n",
       "  <matplotlib.axis.XTick at 0x14f1bf128>,\n",
       "  <matplotlib.axis.XTick at 0x14f1bfb38>,\n",
       "  <matplotlib.axis.XTick at 0x14f1c4588>,\n",
       "  <matplotlib.axis.XTick at 0x14f1c4f98>,\n",
       "  <matplotlib.axis.XTick at 0x14f1c79e8>,\n",
       "  <matplotlib.axis.XTick at 0x14f1cc438>,\n",
       "  <matplotlib.axis.XTick at 0x14f1cce48>,\n",
       "  <matplotlib.axis.XTick at 0x14f1cf898>,\n",
       "  <matplotlib.axis.XTick at 0x14f1d42e8>,\n",
       "  <matplotlib.axis.XTick at 0x14f1d4cf8>,\n",
       "  <matplotlib.axis.XTick at 0x14f1d9748>,\n",
       "  <matplotlib.axis.XTick at 0x14f1dc198>,\n",
       "  <matplotlib.axis.XTick at 0x14f1dcba8>,\n",
       "  <matplotlib.axis.XTick at 0x14f1e05f8>,\n",
       "  <matplotlib.axis.XTick at 0x14f1e6048>,\n",
       "  <matplotlib.axis.XTick at 0x14f1e6a58>,\n",
       "  <matplotlib.axis.XTick at 0x14f1e84a8>,\n",
       "  <matplotlib.axis.XTick at 0x14f1e8eb8>,\n",
       "  <matplotlib.axis.XTick at 0x14f1ec908>,\n",
       "  <matplotlib.axis.XTick at 0x14f1f0358>,\n",
       "  <matplotlib.axis.XTick at 0x14f1f0d68>,\n",
       "  <matplotlib.axis.XTick at 0x14f1f47b8>,\n",
       "  <matplotlib.axis.XTick at 0x14f1fa208>,\n",
       "  <matplotlib.axis.XTick at 0x14f1fac18>,\n",
       "  <matplotlib.axis.XTick at 0x14f1fd668>,\n",
       "  <matplotlib.axis.XTick at 0x14f3020b8>,\n",
       "  <matplotlib.axis.XTick at 0x14f302ac8>,\n",
       "  <matplotlib.axis.XTick at 0x14f305518>,\n",
       "  <matplotlib.axis.XTick at 0x14f305f28>,\n",
       "  <matplotlib.axis.XTick at 0x14f30a978>,\n",
       "  <matplotlib.axis.XTick at 0x14f30d3c8>,\n",
       "  <matplotlib.axis.XTick at 0x14f30ddd8>,\n",
       "  <matplotlib.axis.XTick at 0x14f312828>,\n",
       "  <matplotlib.axis.XTick at 0x14f317278>,\n",
       "  <matplotlib.axis.XTick at 0x14f317c88>,\n",
       "  <matplotlib.axis.XTick at 0x14f31a6d8>,\n",
       "  <matplotlib.axis.XTick at 0x14f31f128>,\n",
       "  <matplotlib.axis.XTick at 0x14f31fb38>,\n",
       "  <matplotlib.axis.XTick at 0x14f323588>,\n",
       "  <matplotlib.axis.XTick at 0x14f323f98>,\n",
       "  <matplotlib.axis.XTick at 0x14f3289e8>,\n",
       "  <matplotlib.axis.XTick at 0x14f32b438>,\n",
       "  <matplotlib.axis.XTick at 0x14f32be48>,\n",
       "  <matplotlib.axis.XTick at 0x14f32d898>,\n",
       "  <matplotlib.axis.XTick at 0x14f3332e8>,\n",
       "  <matplotlib.axis.XTick at 0x14f333cf8>,\n",
       "  <matplotlib.axis.XTick at 0x14f338748>,\n",
       "  <matplotlib.axis.XTick at 0x14f33d198>,\n",
       "  <matplotlib.axis.XTick at 0x14f33dba8>,\n",
       "  <matplotlib.axis.XTick at 0x14f3405f8>,\n",
       "  <matplotlib.axis.XTick at 0x14f344048>,\n",
       "  <matplotlib.axis.XTick at 0x14f344a58>,\n",
       "  <matplotlib.axis.XTick at 0x14f3484a8>,\n",
       "  <matplotlib.axis.XTick at 0x14f348eb8>,\n",
       "  <matplotlib.axis.XTick at 0x14f34d908>,\n",
       "  <matplotlib.axis.XTick at 0x14f350358>,\n",
       "  <matplotlib.axis.XTick at 0x14f350d68>,\n",
       "  <matplotlib.axis.XTick at 0x14f3547b8>,\n",
       "  <matplotlib.axis.XTick at 0x14f358208>,\n",
       "  <matplotlib.axis.XTick at 0x14f358c18>,\n",
       "  <matplotlib.axis.XTick at 0x14f35c668>,\n",
       "  <matplotlib.axis.XTick at 0x14f3610b8>,\n",
       "  <matplotlib.axis.XTick at 0x14f361ac8>,\n",
       "  <matplotlib.axis.XTick at 0x14f364518>,\n",
       "  <matplotlib.axis.XTick at 0x14f364f28>,\n",
       "  <matplotlib.axis.XTick at 0x14f369978>,\n",
       "  <matplotlib.axis.XTick at 0x14f36c3c8>,\n",
       "  <matplotlib.axis.XTick at 0x14f36cdd8>,\n",
       "  <matplotlib.axis.XTick at 0x14f370828>,\n",
       "  <matplotlib.axis.XTick at 0x14f376278>,\n",
       "  <matplotlib.axis.XTick at 0x14f376c88>,\n",
       "  <matplotlib.axis.XTick at 0x14f3796d8>,\n",
       "  <matplotlib.axis.XTick at 0x14f37e128>,\n",
       "  <matplotlib.axis.XTick at 0x14f37eb38>,\n",
       "  <matplotlib.axis.XTick at 0x14f382588>,\n",
       "  <matplotlib.axis.XTick at 0x14f382f98>,\n",
       "  <matplotlib.axis.XTick at 0x14f3859e8>,\n",
       "  <matplotlib.axis.XTick at 0x14f38a438>,\n",
       "  <matplotlib.axis.XTick at 0x14f38ae48>,\n",
       "  <matplotlib.axis.XTick at 0x14f38e898>,\n",
       "  <matplotlib.axis.XTick at 0x14f3922e8>,\n",
       "  <matplotlib.axis.XTick at 0x14f392cf8>,\n",
       "  <matplotlib.axis.XTick at 0x14f396748>,\n",
       "  <matplotlib.axis.XTick at 0x14f399198>,\n",
       "  <matplotlib.axis.XTick at 0x14f399ba8>,\n",
       "  <matplotlib.axis.XTick at 0x14f39e5f8>,\n",
       "  <matplotlib.axis.XTick at 0x14f3a3048>,\n",
       "  <matplotlib.axis.XTick at 0x14f3a3a58>,\n",
       "  <matplotlib.axis.XTick at 0x14f3a74a8>,\n",
       "  <matplotlib.axis.XTick at 0x14f3a7eb8>,\n",
       "  <matplotlib.axis.XTick at 0x14f3ad908>,\n",
       "  <matplotlib.axis.XTick at 0x14f3af358>,\n",
       "  <matplotlib.axis.XTick at 0x14f3afd68>,\n",
       "  <matplotlib.axis.XTick at 0x14f3b47b8>,\n",
       "  <matplotlib.axis.XTick at 0x14f3b9208>,\n",
       "  <matplotlib.axis.XTick at 0x14f3b9c18>,\n",
       "  <matplotlib.axis.XTick at 0x14f3bc668>,\n",
       "  <matplotlib.axis.XTick at 0x14f3c10b8>,\n",
       "  <matplotlib.axis.XTick at 0x14f3c1ac8>,\n",
       "  <matplotlib.axis.XTick at 0x14f3c3518>,\n",
       "  <matplotlib.axis.XTick at 0x14f3c3f28>,\n",
       "  <matplotlib.axis.XTick at 0x14f3c8978>,\n",
       "  <matplotlib.axis.XTick at 0x14f3cd3c8>,\n",
       "  <matplotlib.axis.XTick at 0x14f3cddd8>,\n",
       "  <matplotlib.axis.XTick at 0x14f3d0828>,\n",
       "  <matplotlib.axis.XTick at 0x14f3d5278>,\n",
       "  <matplotlib.axis.XTick at 0x14f3d5c88>,\n",
       "  <matplotlib.axis.XTick at 0x14f3d86d8>,\n",
       "  <matplotlib.axis.XTick at 0x14f3dc128>,\n",
       "  <matplotlib.axis.XTick at 0x14f3dcb38>,\n",
       "  <matplotlib.axis.XTick at 0x14f3e2588>,\n",
       "  <matplotlib.axis.XTick at 0x14f3e2f98>,\n",
       "  <matplotlib.axis.XTick at 0x14f3e59e8>,\n",
       "  <matplotlib.axis.XTick at 0x14f3e9438>,\n",
       "  <matplotlib.axis.XTick at 0x14f3e9e48>,\n",
       "  <matplotlib.axis.XTick at 0x14f3ee898>,\n",
       "  <matplotlib.axis.XTick at 0x14f3f22e8>,\n",
       "  <matplotlib.axis.XTick at 0x14f3f2cf8>,\n",
       "  <matplotlib.axis.XTick at 0x14f3f7748>,\n",
       "  <matplotlib.axis.XTick at 0x14f3f9198>,\n",
       "  <matplotlib.axis.XTick at 0x14f3f9ba8>,\n",
       "  <matplotlib.axis.XTick at 0x14f3fe5f8>,\n",
       "  <matplotlib.axis.XTick at 0x14f403048>,\n",
       "  <matplotlib.axis.XTick at 0x14f403a58>,\n",
       "  <matplotlib.axis.XTick at 0x14f4064a8>,\n",
       "  <matplotlib.axis.XTick at 0x14f406eb8>,\n",
       "  <matplotlib.axis.XTick at 0x14f40a908>,\n",
       "  <matplotlib.axis.XTick at 0x14f40d358>,\n",
       "  <matplotlib.axis.XTick at 0x14f40dd68>,\n",
       "  <matplotlib.axis.XTick at 0x14f4127b8>,\n",
       "  <matplotlib.axis.XTick at 0x14f418208>,\n",
       "  <matplotlib.axis.XTick at 0x14f418c18>,\n",
       "  <matplotlib.axis.XTick at 0x14f41c668>,\n",
       "  <matplotlib.axis.XTick at 0x14f41f0b8>,\n",
       "  <matplotlib.axis.XTick at 0x14f41fac8>,\n",
       "  <matplotlib.axis.XTick at 0x14f422518>,\n",
       "  <matplotlib.axis.XTick at 0x14f422f28>,\n",
       "  <matplotlib.axis.XTick at 0x14f427978>,\n",
       "  <matplotlib.axis.XTick at 0x14f42b3c8>,\n",
       "  <matplotlib.axis.XTick at 0x14f42bdd8>,\n",
       "  <matplotlib.axis.XTick at 0x14f430828>,\n",
       "  <matplotlib.axis.XTick at 0x14f433278>,\n",
       "  <matplotlib.axis.XTick at 0x14f433c88>,\n",
       "  <matplotlib.axis.XTick at 0x14f4386d8>,\n",
       "  <matplotlib.axis.XTick at 0x14f43c128>,\n",
       "  <matplotlib.axis.XTick at 0x14f43cb38>,\n",
       "  <matplotlib.axis.XTick at 0x14f441588>,\n",
       "  <matplotlib.axis.XTick at 0x14f441f98>,\n",
       "  <matplotlib.axis.XTick at 0x14f4459e8>,\n",
       "  <matplotlib.axis.XTick at 0x14f449438>,\n",
       "  <matplotlib.axis.XTick at 0x14f449e48>,\n",
       "  <matplotlib.axis.XTick at 0x14f44d898>,\n",
       "  <matplotlib.axis.XTick at 0x14f4512e8>,\n",
       "  <matplotlib.axis.XTick at 0x14f451cf8>,\n",
       "  <matplotlib.axis.XTick at 0x14f456748>,\n",
       "  <matplotlib.axis.XTick at 0x14f45a198>,\n",
       "  <matplotlib.axis.XTick at 0x14f45aba8>,\n",
       "  <matplotlib.axis.XTick at 0x14f45e5f8>,\n",
       "  <matplotlib.axis.XTick at 0x14f461048>,\n",
       "  <matplotlib.axis.XTick at 0x14f461a58>,\n",
       "  <matplotlib.axis.XTick at 0x14f4664a8>,\n",
       "  <matplotlib.axis.XTick at 0x14f466eb8>,\n",
       "  <matplotlib.axis.XTick at 0x14f46a908>,\n",
       "  <matplotlib.axis.XTick at 0x14f46e358>,\n",
       "  <matplotlib.axis.XTick at 0x14f46ed68>,\n",
       "  <matplotlib.axis.XTick at 0x14f4727b8>,\n",
       "  <matplotlib.axis.XTick at 0x14f476208>,\n",
       "  <matplotlib.axis.XTick at 0x14f476c18>,\n",
       "  <matplotlib.axis.XTick at 0x14f47a668>,\n",
       "  <matplotlib.axis.XTick at 0x14f47e0b8>,\n",
       "  <matplotlib.axis.XTick at 0x14f47eac8>,\n",
       "  <matplotlib.axis.XTick at 0x14f482518>,\n",
       "  <matplotlib.axis.XTick at 0x14f482f28>,\n",
       "  <matplotlib.axis.XTick at 0x14f487978>,\n",
       "  <matplotlib.axis.XTick at 0x14f48c3c8>,\n",
       "  <matplotlib.axis.XTick at 0x14f48cdd8>,\n",
       "  <matplotlib.axis.XTick at 0x14f490828>,\n",
       "  <matplotlib.axis.XTick at 0x14f493278>,\n",
       "  <matplotlib.axis.XTick at 0x14f493c88>,\n",
       "  <matplotlib.axis.XTick at 0x14f4976d8>,\n",
       "  <matplotlib.axis.XTick at 0x14f49b128>,\n",
       "  <matplotlib.axis.XTick at 0x14f49bb38>,\n",
       "  <matplotlib.axis.XTick at 0x14f4a0588>,\n",
       "  <matplotlib.axis.XTick at 0x14f4a0f98>,\n",
       "  <matplotlib.axis.XTick at 0x14f4a39e8>,\n",
       "  <matplotlib.axis.XTick at 0x14f4a8438>,\n",
       "  <matplotlib.axis.XTick at 0x14f4a8e48>,\n",
       "  <matplotlib.axis.XTick at 0x14f4ab898>,\n",
       "  <matplotlib.axis.XTick at 0x14f4b02e8>,\n",
       "  <matplotlib.axis.XTick at 0x14f4b0cf8>,\n",
       "  <matplotlib.axis.XTick at 0x14f4b4748>,\n",
       "  <matplotlib.axis.XTick at 0x14f4b7198>,\n",
       "  <matplotlib.axis.XTick at 0x14f4b7ba8>,\n",
       "  <matplotlib.axis.XTick at 0x14f4bd5f8>,\n",
       "  <matplotlib.axis.XTick at 0x14f4c1048>,\n",
       "  <matplotlib.axis.XTick at 0x14f4c1a58>,\n",
       "  <matplotlib.axis.XTick at 0x14f4c44a8>,\n",
       "  <matplotlib.axis.XTick at 0x14f4c4eb8>,\n",
       "  <matplotlib.axis.XTick at 0x14f4c9908>,\n",
       "  <matplotlib.axis.XTick at 0x14f4ce358>,\n",
       "  <matplotlib.axis.XTick at 0x14f4ced68>,\n",
       "  <matplotlib.axis.XTick at 0x14f4d27b8>,\n",
       "  <matplotlib.axis.XTick at 0x14f4d6208>,\n",
       "  <matplotlib.axis.XTick at 0x14f4d6c18>,\n",
       "  <matplotlib.axis.XTick at 0x14f4d9668>,\n",
       "  <matplotlib.axis.XTick at 0x14f4de0b8>,\n",
       "  <matplotlib.axis.XTick at 0x14f4deac8>,\n",
       "  <matplotlib.axis.XTick at 0x14f4e2518>,\n",
       "  <matplotlib.axis.XTick at 0x14f4e2f28>,\n",
       "  <matplotlib.axis.XTick at 0x14f4e6978>,\n",
       "  <matplotlib.axis.XTick at 0x14f4eb3c8>,\n",
       "  <matplotlib.axis.XTick at 0x14f4ebdd8>,\n",
       "  <matplotlib.axis.XTick at 0x14f4ed828>,\n",
       "  <matplotlib.axis.XTick at 0x14f4f3278>,\n",
       "  <matplotlib.axis.XTick at 0x14f4f3c88>,\n",
       "  <matplotlib.axis.XTick at 0x14f4f76d8>,\n",
       "  <matplotlib.axis.XTick at 0x14f4fb128>,\n",
       "  <matplotlib.axis.XTick at 0x14f4fbb38>,\n",
       "  <matplotlib.axis.XTick at 0x14f500588>,\n",
       "  <matplotlib.axis.XTick at 0x14f500f98>,\n",
       "  <matplotlib.axis.XTick at 0x14f5029e8>,\n",
       "  <matplotlib.axis.XTick at 0x14f508438>,\n",
       "  <matplotlib.axis.XTick at 0x14f508e48>,\n",
       "  <matplotlib.axis.XTick at 0x14f50b898>,\n",
       "  <matplotlib.axis.XTick at 0x14f5102e8>,\n",
       "  <matplotlib.axis.XTick at 0x14f510cf8>,\n",
       "  <matplotlib.axis.XTick at 0x14f514748>,\n",
       "  <matplotlib.axis.XTick at 0x14f517198>,\n",
       "  <matplotlib.axis.XTick at 0x14f517ba8>,\n",
       "  <matplotlib.axis.XTick at 0x14f51b5f8>,\n",
       "  <matplotlib.axis.XTick at 0x14f520048>,\n",
       "  <matplotlib.axis.XTick at 0x14f520a58>,\n",
       "  <matplotlib.axis.XTick at 0x14f5244a8>,\n",
       "  <matplotlib.axis.XTick at 0x14f524eb8>,\n",
       "  <matplotlib.axis.XTick at 0x14f528908>,\n",
       "  <matplotlib.axis.XTick at 0x14f52c358>,\n",
       "  <matplotlib.axis.XTick at 0x14f52cd68>,\n",
       "  <matplotlib.axis.XTick at 0x14f5307b8>,\n",
       "  <matplotlib.axis.XTick at 0x14f536208>,\n",
       "  <matplotlib.axis.XTick at 0x14f536c18>,\n",
       "  <matplotlib.axis.XTick at 0x14f539668>,\n",
       "  <matplotlib.axis.XTick at 0x14f53c0b8>,\n",
       "  <matplotlib.axis.XTick at 0x14f53cac8>,\n",
       "  <matplotlib.axis.XTick at 0x14f540518>,\n",
       "  <matplotlib.axis.XTick at 0x14f540f28>,\n",
       "  <matplotlib.axis.XTick at 0x14f545978>,\n",
       "  <matplotlib.axis.XTick at 0x14f54a3c8>,\n",
       "  <matplotlib.axis.XTick at 0x14f54add8>,\n",
       "  <matplotlib.axis.XTick at 0x14f54d828>,\n",
       "  <matplotlib.axis.XTick at 0x14f551278>,\n",
       "  <matplotlib.axis.XTick at 0x14f551c88>,\n",
       "  <matplotlib.axis.XTick at 0x14f5546d8>,\n",
       "  <matplotlib.axis.XTick at 0x14f55a128>,\n",
       "  <matplotlib.axis.XTick at 0x14f55ab38>,\n",
       "  <matplotlib.axis.XTick at 0x14f55d588>,\n",
       "  <matplotlib.axis.XTick at 0x14f55df98>,\n",
       "  <matplotlib.axis.XTick at 0x14f5639e8>,\n",
       "  <matplotlib.axis.XTick at 0x14f567438>,\n",
       "  <matplotlib.axis.XTick at 0x14f567e48>,\n",
       "  <matplotlib.axis.XTick at 0x14f56b898>,\n",
       "  <matplotlib.axis.XTick at 0x14f56f2e8>,\n",
       "  <matplotlib.axis.XTick at 0x14f56fcf8>,\n",
       "  <matplotlib.axis.XTick at 0x14f573748>,\n",
       "  <matplotlib.axis.XTick at 0x14f578198>,\n",
       "  <matplotlib.axis.XTick at 0x14f578ba8>,\n",
       "  <matplotlib.axis.XTick at 0x14f57b5f8>,\n",
       "  <matplotlib.axis.XTick at 0x14f581048>,\n",
       "  <matplotlib.axis.XTick at 0x14f581a58>,\n",
       "  <matplotlib.axis.XTick at 0x14f5844a8>,\n",
       "  <matplotlib.axis.XTick at 0x14f584eb8>,\n",
       "  <matplotlib.axis.XTick at 0x14f587908>,\n",
       "  <matplotlib.axis.XTick at 0x14f58c358>,\n",
       "  <matplotlib.axis.XTick at 0x14f58cd68>,\n",
       "  <matplotlib.axis.XTick at 0x14f58f7b8>,\n",
       "  <matplotlib.axis.XTick at 0x14f594208>,\n",
       "  <matplotlib.axis.XTick at 0x14f594c18>,\n",
       "  <matplotlib.axis.XTick at 0x14f598668>,\n",
       "  <matplotlib.axis.XTick at 0x14f59d0b8>,\n",
       "  <matplotlib.axis.XTick at 0x14f59dac8>,\n",
       "  <matplotlib.axis.XTick at 0x14f5a0518>,\n",
       "  <matplotlib.axis.XTick at 0x14f5a0f28>,\n",
       "  <matplotlib.axis.XTick at 0x14f5a5978>,\n",
       "  <matplotlib.axis.XTick at 0x14f5a93c8>,\n",
       "  <matplotlib.axis.XTick at 0x14f5a9dd8>,\n",
       "  <matplotlib.axis.XTick at 0x14f5ad828>,\n",
       "  <matplotlib.axis.XTick at 0x14f5b2278>,\n",
       "  <matplotlib.axis.XTick at 0x14f5b2c88>,\n",
       "  <matplotlib.axis.XTick at 0x14f5b46d8>,\n",
       "  <matplotlib.axis.XTick at 0x14f5b9128>,\n",
       "  <matplotlib.axis.XTick at 0x14f5b9b38>,\n",
       "  <matplotlib.axis.XTick at 0x14f5bd588>,\n",
       "  <matplotlib.axis.XTick at 0x14f5bdf98>,\n",
       "  <matplotlib.axis.XTick at 0x14f5c29e8>,\n",
       "  <matplotlib.axis.XTick at 0x14f5c5438>,\n",
       "  <matplotlib.axis.XTick at 0x14f5c5e48>,\n",
       "  <matplotlib.axis.XTick at 0x14f5c8898>,\n",
       "  <matplotlib.axis.XTick at 0x14f5cd2e8>,\n",
       "  <matplotlib.axis.XTick at 0x14f5cdcf8>,\n",
       "  <matplotlib.axis.XTick at 0x14f5d2748>,\n",
       "  <matplotlib.axis.XTick at 0x14f5d6198>,\n",
       "  <matplotlib.axis.XTick at 0x14f5d6ba8>,\n",
       "  <matplotlib.axis.XTick at 0x14f5db5f8>,\n",
       "  <matplotlib.axis.XTick at 0x14f5df048>,\n",
       "  <matplotlib.axis.XTick at 0x14f5dfa58>,\n",
       "  <matplotlib.axis.XTick at 0x14f5e24a8>,\n",
       "  <matplotlib.axis.XTick at 0x14f5e2eb8>,\n",
       "  <matplotlib.axis.XTick at 0x14f5e7908>,\n",
       "  <matplotlib.axis.XTick at 0x14f5ea358>,\n",
       "  <matplotlib.axis.XTick at 0x14f5ead68>,\n",
       "  <matplotlib.axis.XTick at 0x14f5ef7b8>,\n",
       "  <matplotlib.axis.XTick at 0x14f5f3208>,\n",
       "  <matplotlib.axis.XTick at 0x14f5f3c18>,\n",
       "  <matplotlib.axis.XTick at 0x14f5f6668>,\n",
       "  <matplotlib.axis.XTick at 0x14f5fc0b8>,\n",
       "  <matplotlib.axis.XTick at 0x14f5fcac8>,\n",
       "  <matplotlib.axis.XTick at 0x14f5ff518>,\n",
       "  <matplotlib.axis.XTick at 0x14f5fff28>,\n",
       "  <matplotlib.axis.XTick at 0x14f705978>,\n",
       "  <matplotlib.axis.XTick at 0x14f7083c8>,\n",
       "  <matplotlib.axis.XTick at 0x14f708dd8>,\n",
       "  <matplotlib.axis.XTick at 0x14f70b828>,\n",
       "  <matplotlib.axis.XTick at 0x14f711278>,\n",
       "  <matplotlib.axis.XTick at 0x14f711c88>,\n",
       "  <matplotlib.axis.XTick at 0x14f7146d8>,\n",
       "  <matplotlib.axis.XTick at 0x14f719128>,\n",
       "  <matplotlib.axis.XTick at 0x14f719b38>,\n",
       "  <matplotlib.axis.XTick at 0x14f71d588>,\n",
       "  <matplotlib.axis.XTick at 0x14f71df98>,\n",
       "  <matplotlib.axis.XTick at 0x14f7209e8>,\n",
       "  <matplotlib.axis.XTick at 0x14f725438>,\n",
       "  <matplotlib.axis.XTick at 0x14f725e48>,\n",
       "  <matplotlib.axis.XTick at 0x14f729898>,\n",
       "  <matplotlib.axis.XTick at 0x14f72d2e8>,\n",
       "  <matplotlib.axis.XTick at 0x14f72dcf8>,\n",
       "  <matplotlib.axis.XTick at 0x14f731748>,\n",
       "  <matplotlib.axis.XTick at 0x14f735198>,\n",
       "  <matplotlib.axis.XTick at 0x14f735ba8>,\n",
       "  <matplotlib.axis.XTick at 0x14f7395f8>,\n",
       "  <matplotlib.axis.XTick at 0x14f73e048>,\n",
       "  <matplotlib.axis.XTick at 0x14f73ea58>,\n",
       "  <matplotlib.axis.XTick at 0x14f7424a8>,\n",
       "  <matplotlib.axis.XTick at 0x14f742eb8>,\n",
       "  <matplotlib.axis.XTick at 0x14f747908>,\n",
       "  <matplotlib.axis.XTick at 0x14f749358>,\n",
       "  <matplotlib.axis.XTick at 0x14f749d68>,\n",
       "  <matplotlib.axis.XTick at 0x14f74e7b8>,\n",
       "  <matplotlib.axis.XTick at 0x14f753208>,\n",
       "  <matplotlib.axis.XTick at 0x14f753c18>,\n",
       "  <matplotlib.axis.XTick at 0x14f757668>,\n",
       "  <matplotlib.axis.XTick at 0x14f75b0b8>,\n",
       "  <matplotlib.axis.XTick at 0x14f75bac8>,\n",
       "  <matplotlib.axis.XTick at 0x14f75e518>,\n",
       "  <matplotlib.axis.XTick at 0x14f75ef28>,\n",
       "  <matplotlib.axis.XTick at 0x14f763978>,\n",
       "  <matplotlib.axis.XTick at 0x14f7673c8>,\n",
       "  <matplotlib.axis.XTick at 0x14f767dd8>,\n",
       "  <matplotlib.axis.XTick at 0x14f76b828>,\n",
       "  <matplotlib.axis.XTick at 0x14f76e278>,\n",
       "  <matplotlib.axis.XTick at 0x14f76ec88>,\n",
       "  <matplotlib.axis.XTick at 0x14f7726d8>,\n",
       "  <matplotlib.axis.XTick at 0x14f777128>,\n",
       "  <matplotlib.axis.XTick at 0x14f777b38>,\n",
       "  <matplotlib.axis.XTick at 0x14f77c588>,\n",
       "  <matplotlib.axis.XTick at 0x14f77cf98>,\n",
       "  <matplotlib.axis.XTick at 0x14f7809e8>,\n",
       "  <matplotlib.axis.XTick at 0x14f783438>,\n",
       "  <matplotlib.axis.XTick at 0x14f783e48>,\n",
       "  <matplotlib.axis.XTick at 0x14f789898>,\n",
       "  <matplotlib.axis.XTick at 0x14f78d2e8>,\n",
       "  <matplotlib.axis.XTick at 0x14f78dcf8>,\n",
       "  <matplotlib.axis.XTick at 0x14f791748>,\n",
       "  <matplotlib.axis.XTick at 0x14f795198>,\n",
       "  <matplotlib.axis.XTick at 0x14f795ba8>,\n",
       "  <matplotlib.axis.XTick at 0x14f7995f8>,\n",
       "  <matplotlib.axis.XTick at 0x14f79e048>,\n",
       "  <matplotlib.axis.XTick at 0x14f79ea58>,\n",
       "  <matplotlib.axis.XTick at 0x14f7a14a8>,\n",
       "  <matplotlib.axis.XTick at 0x14f7a1eb8>,\n",
       "  <matplotlib.axis.XTick at 0x14f7a5908>,\n",
       "  <matplotlib.axis.XTick at 0x14f7a9358>,\n",
       "  <matplotlib.axis.XTick at 0x14f7a9d68>,\n",
       "  <matplotlib.axis.XTick at 0x14f7ad7b8>,\n",
       "  <matplotlib.axis.XTick at 0x14f7b2208>,\n",
       "  <matplotlib.axis.XTick at 0x14f7b2c18>,\n",
       "  <matplotlib.axis.XTick at 0x14f7b7668>,\n",
       "  <matplotlib.axis.XTick at 0x14f7bb0b8>,\n",
       "  <matplotlib.axis.XTick at 0x14f7bbac8>,\n",
       "  <matplotlib.axis.XTick at 0x14f7be518>,\n",
       "  <matplotlib.axis.XTick at 0x14f7bef28>,\n",
       "  <matplotlib.axis.XTick at 0x14f7c2978>,\n",
       "  <matplotlib.axis.XTick at 0x14f7c63c8>,\n",
       "  <matplotlib.axis.XTick at 0x14f7c6dd8>,\n",
       "  <matplotlib.axis.XTick at 0x14f7cb828>,\n",
       "  <matplotlib.axis.XTick at 0x14f7cf278>,\n",
       "  <matplotlib.axis.XTick at 0x14f7cfc88>,\n",
       "  <matplotlib.axis.XTick at 0x14f7d26d8>,\n",
       "  <matplotlib.axis.XTick at 0x14f7d6128>,\n",
       "  <matplotlib.axis.XTick at 0x14f7d6b38>,\n",
       "  <matplotlib.axis.XTick at 0x14f7db588>,\n",
       "  <matplotlib.axis.XTick at 0x14f7dbf98>,\n",
       "  <matplotlib.axis.XTick at 0x14f7df9e8>,\n",
       "  <matplotlib.axis.XTick at 0x14f7e4438>,\n",
       "  <matplotlib.axis.XTick at 0x14f7e4e48>,\n",
       "  <matplotlib.axis.XTick at 0x14f7e7898>,\n",
       "  <matplotlib.axis.XTick at 0x14f7eb2e8>,\n",
       "  <matplotlib.axis.XTick at 0x14f7ebcf8>,\n",
       "  <matplotlib.axis.XTick at 0x14f7f1748>,\n",
       "  <matplotlib.axis.XTick at 0x14f7f3198>,\n",
       "  <matplotlib.axis.XTick at 0x14f7f3ba8>,\n",
       "  <matplotlib.axis.XTick at 0x14f7f95f8>,\n",
       "  <matplotlib.axis.XTick at 0x14f7fc048>,\n",
       "  <matplotlib.axis.XTick at 0x14f7fca58>,\n",
       "  <matplotlib.axis.XTick at 0x14fa004a8>,\n",
       "  <matplotlib.axis.XTick at 0x14fa00eb8>,\n",
       "  <matplotlib.axis.XTick at 0x14fa05908>,\n",
       "  <matplotlib.axis.XTick at 0x14fa07358>,\n",
       "  <matplotlib.axis.XTick at 0x14fa07d68>,\n",
       "  <matplotlib.axis.XTick at 0x14fa0d7b8>,\n",
       "  <matplotlib.axis.XTick at 0x14fa10208>,\n",
       "  <matplotlib.axis.XTick at 0x14fa10c18>,\n",
       "  <matplotlib.axis.XTick at 0x14fa14668>,\n",
       "  <matplotlib.axis.XTick at 0x14fa190b8>,\n",
       "  <matplotlib.axis.XTick at 0x14fa19ac8>,\n",
       "  <matplotlib.axis.XTick at 0x14fa1d518>,\n",
       "  <matplotlib.axis.XTick at 0x14fa1df28>,\n",
       "  <matplotlib.axis.XTick at 0x14fa23978>,\n",
       "  <matplotlib.axis.XTick at 0x14fa273c8>,\n",
       "  <matplotlib.axis.XTick at 0x14fa27dd8>,\n",
       "  <matplotlib.axis.XTick at 0x14fa29828>,\n",
       "  <matplotlib.axis.XTick at 0x14fa2f278>,\n",
       "  <matplotlib.axis.XTick at 0x14fa2fc88>,\n",
       "  <matplotlib.axis.XTick at 0x14fa326d8>,\n",
       "  <matplotlib.axis.XTick at 0x14fa37128>,\n",
       "  <matplotlib.axis.XTick at 0x14fa37b38>,\n",
       "  <matplotlib.axis.XTick at 0x14fa3b588>,\n",
       "  <matplotlib.axis.XTick at 0x14fa3bf98>,\n",
       "  <matplotlib.axis.XTick at 0x14fa3e9e8>,\n",
       "  <matplotlib.axis.XTick at 0x14fa44438>,\n",
       "  <matplotlib.axis.XTick at 0x14fa44e48>,\n",
       "  <matplotlib.axis.XTick at 0x14fa46898>,\n",
       "  <matplotlib.axis.XTick at 0x14fa4b2e8>,\n",
       "  <matplotlib.axis.XTick at 0x14fa4bcf8>,\n",
       "  <matplotlib.axis.XTick at 0x14fa4f748>,\n",
       "  <matplotlib.axis.XTick at 0x14fa52198>,\n",
       "  <matplotlib.axis.XTick at 0x14fa52ba8>,\n",
       "  <matplotlib.axis.XTick at 0x14fa595f8>,\n",
       "  <matplotlib.axis.XTick at 0x14fa5c048>,\n",
       "  <matplotlib.axis.XTick at 0x14fa5ca58>,\n",
       "  <matplotlib.axis.XTick at 0x14fa604a8>,\n",
       "  <matplotlib.axis.XTick at 0x14fa60eb8>,\n",
       "  <matplotlib.axis.XTick at 0x14fa64908>,\n",
       "  <matplotlib.axis.XTick at 0x14fa68358>,\n",
       "  <matplotlib.axis.XTick at 0x14fa68d68>,\n",
       "  <matplotlib.axis.XTick at 0x14fa6c7b8>,\n",
       "  <matplotlib.axis.XTick at 0x14fa70208>,\n",
       "  <matplotlib.axis.XTick at 0x14fa70c18>,\n",
       "  <matplotlib.axis.XTick at 0x14fa74668>,\n",
       "  <matplotlib.axis.XTick at 0x14fa780b8>,\n",
       "  <matplotlib.axis.XTick at 0x14fa78ac8>,\n",
       "  <matplotlib.axis.XTick at 0x14fa7c518>,\n",
       "  <matplotlib.axis.XTick at 0x14fa7cf28>,\n",
       "  <matplotlib.axis.XTick at 0x14fa80978>,\n",
       "  <matplotlib.axis.XTick at 0x14fa853c8>,\n",
       "  <matplotlib.axis.XTick at 0x14fa85dd8>,\n",
       "  <matplotlib.axis.XTick at 0x14fa88828>,\n",
       "  <matplotlib.axis.XTick at 0x14fa8c278>,\n",
       "  <matplotlib.axis.XTick at 0x14fa8cc88>,\n",
       "  <matplotlib.axis.XTick at 0x14fa916d8>,\n",
       "  <matplotlib.axis.XTick at 0x14fa95128>,\n",
       "  <matplotlib.axis.XTick at 0x14fa95b38>,\n",
       "  <matplotlib.axis.XTick at 0x14fa9a588>,\n",
       "  <matplotlib.axis.XTick at 0x14fa9af98>,\n",
       "  <matplotlib.axis.XTick at 0x14fa9d9e8>,\n",
       "  <matplotlib.axis.XTick at 0x14faa1438>,\n",
       "  <matplotlib.axis.XTick at 0x14faa1e48>,\n",
       "  <matplotlib.axis.XTick at 0x14faa6898>,\n",
       "  <matplotlib.axis.XTick at 0x14faaa2e8>,\n",
       "  <matplotlib.axis.XTick at 0x14faaacf8>,\n",
       "  <matplotlib.axis.XTick at 0x14faad748>,\n",
       "  <matplotlib.axis.XTick at 0x14fab3198>,\n",
       "  <matplotlib.axis.XTick at 0x14fab3ba8>,\n",
       "  <matplotlib.axis.XTick at 0x14fab65f8>,\n",
       "  <matplotlib.axis.XTick at 0x14fabc048>,\n",
       "  <matplotlib.axis.XTick at 0x14fabca58>,\n",
       "  <matplotlib.axis.XTick at 0x14fabf4a8>,\n",
       "  <matplotlib.axis.XTick at 0x14fabfeb8>,\n",
       "  <matplotlib.axis.XTick at 0x14fac3908>,\n",
       "  <matplotlib.axis.XTick at 0x14fac8358>,\n",
       "  <matplotlib.axis.XTick at 0x14fac8d68>,\n",
       "  <matplotlib.axis.XTick at 0x14facb7b8>,\n",
       "  <matplotlib.axis.XTick at 0x14fad2208>,\n",
       "  <matplotlib.axis.XTick at 0x14fad2c18>,\n",
       "  <matplotlib.axis.XTick at 0x14fad4668>,\n",
       "  <matplotlib.axis.XTick at 0x14fad80b8>,\n",
       "  <matplotlib.axis.XTick at 0x14fad8ac8>,\n",
       "  <matplotlib.axis.XTick at 0x14fadc518>,\n",
       "  <matplotlib.axis.XTick at 0x14fadcf28>,\n",
       "  <matplotlib.axis.XTick at 0x14fadf978>,\n",
       "  <matplotlib.axis.XTick at 0x14fae53c8>,\n",
       "  <matplotlib.axis.XTick at 0x14fae5dd8>,\n",
       "  <matplotlib.axis.XTick at 0x14fae8828>,\n",
       "  <matplotlib.axis.XTick at 0x14faed278>,\n",
       "  <matplotlib.axis.XTick at 0x14faedc88>,\n",
       "  <matplotlib.axis.XTick at 0x14faf06d8>,\n",
       "  <matplotlib.axis.XTick at 0x14faf4128>,\n",
       "  <matplotlib.axis.XTick at 0x14faf4b38>,\n",
       "  <matplotlib.axis.XTick at 0x14faf9588>,\n",
       "  <matplotlib.axis.XTick at 0x14faf9f98>,\n",
       "  <matplotlib.axis.XTick at 0x14fafd9e8>,\n",
       "  <matplotlib.axis.XTick at 0x14fb02438>,\n",
       "  <matplotlib.axis.XTick at 0x14fb02e48>,\n",
       "  <matplotlib.axis.XTick at 0x14fb04898>,\n",
       "  <matplotlib.axis.XTick at 0x14fb0a2e8>,\n",
       "  <matplotlib.axis.XTick at 0x14fb0acf8>,\n",
       "  <matplotlib.axis.XTick at 0x14fb0e748>,\n",
       "  <matplotlib.axis.XTick at 0x14fb12198>,\n",
       "  <matplotlib.axis.XTick at 0x14fb12ba8>,\n",
       "  <matplotlib.axis.XTick at 0x14fb165f8>,\n",
       "  <matplotlib.axis.XTick at 0x14fb1a048>,\n",
       "  <matplotlib.axis.XTick at 0x14fb1aa58>,\n",
       "  <matplotlib.axis.XTick at 0x14fb1e4a8>,\n",
       "  <matplotlib.axis.XTick at 0x14fb1eeb8>,\n",
       "  <matplotlib.axis.XTick at 0x14fb22908>,\n",
       "  <matplotlib.axis.XTick at 0x14fb25358>,\n",
       "  <matplotlib.axis.XTick at 0x14fb25d68>,\n",
       "  <matplotlib.axis.XTick at 0x14fb2a7b8>,\n",
       "  <matplotlib.axis.XTick at 0x14fb2e208>,\n",
       "  <matplotlib.axis.XTick at 0x14fb2ec18>,\n",
       "  <matplotlib.axis.XTick at 0x14fb32668>,\n",
       "  <matplotlib.axis.XTick at 0x14fb380b8>,\n",
       "  <matplotlib.axis.XTick at 0x14fb38ac8>,\n",
       "  <matplotlib.axis.XTick at 0x14fb3a518>,\n",
       "  <matplotlib.axis.XTick at 0x14fb3af28>,\n",
       "  <matplotlib.axis.XTick at 0x14fb40978>,\n",
       "  <matplotlib.axis.XTick at 0x14fb433c8>,\n",
       "  <matplotlib.axis.XTick at 0x14fb43dd8>,\n",
       "  <matplotlib.axis.XTick at 0x14fb47828>,\n",
       "  <matplotlib.axis.XTick at 0x14fb4d278>,\n",
       "  <matplotlib.axis.XTick at 0x14fb4dc88>,\n",
       "  <matplotlib.axis.XTick at 0x14fb4f6d8>,\n",
       "  <matplotlib.axis.XTick at 0x14fb55128>,\n",
       "  <matplotlib.axis.XTick at 0x14fb55b38>],\n",
       " <a list of 1000 Text xticklabel objects>)"
      ]
     },
     "execution_count": 107,
     "metadata": {},
     "output_type": "execute_result"
    }
   ],
   "source": [
    "plt.xticks(ind+width/2, novel_names)"
   ]
  },
  {
   "cell_type": "markdown",
   "metadata": {},
   "source": [
    "turn the tickmarks to be vertical"
   ]
  },
  {
   "cell_type": "code",
   "execution_count": 108,
   "metadata": {
    "collapsed": true
   },
   "outputs": [
    {
     "data": {
      "text/plain": [
       "(array([  5.00000000e-01,   1.50000000e+00,   2.50000000e+00,\n",
       "          3.50000000e+00,   4.50000000e+00,   5.50000000e+00,\n",
       "          6.50000000e+00,   7.50000000e+00,   8.50000000e+00,\n",
       "          9.50000000e+00,   1.05000000e+01,   1.15000000e+01,\n",
       "          1.25000000e+01,   1.35000000e+01,   1.45000000e+01,\n",
       "          1.55000000e+01,   1.65000000e+01,   1.75000000e+01,\n",
       "          1.85000000e+01,   1.95000000e+01,   2.05000000e+01,\n",
       "          2.15000000e+01,   2.25000000e+01,   2.35000000e+01,\n",
       "          2.45000000e+01,   2.55000000e+01,   2.65000000e+01,\n",
       "          2.75000000e+01,   2.85000000e+01,   2.95000000e+01,\n",
       "          3.05000000e+01,   3.15000000e+01,   3.25000000e+01,\n",
       "          3.35000000e+01,   3.45000000e+01,   3.55000000e+01,\n",
       "          3.65000000e+01,   3.75000000e+01,   3.85000000e+01,\n",
       "          3.95000000e+01,   4.05000000e+01,   4.15000000e+01,\n",
       "          4.25000000e+01,   4.35000000e+01,   4.45000000e+01,\n",
       "          4.55000000e+01,   4.65000000e+01,   4.75000000e+01,\n",
       "          4.85000000e+01,   4.95000000e+01,   5.05000000e+01,\n",
       "          5.15000000e+01,   5.25000000e+01,   5.35000000e+01,\n",
       "          5.45000000e+01,   5.55000000e+01,   5.65000000e+01,\n",
       "          5.75000000e+01,   5.85000000e+01,   5.95000000e+01,\n",
       "          6.05000000e+01,   6.15000000e+01,   6.25000000e+01,\n",
       "          6.35000000e+01,   6.45000000e+01,   6.55000000e+01,\n",
       "          6.65000000e+01,   6.75000000e+01,   6.85000000e+01,\n",
       "          6.95000000e+01,   7.05000000e+01,   7.15000000e+01,\n",
       "          7.25000000e+01,   7.35000000e+01,   7.45000000e+01,\n",
       "          7.55000000e+01,   7.65000000e+01,   7.75000000e+01,\n",
       "          7.85000000e+01,   7.95000000e+01,   8.05000000e+01,\n",
       "          8.15000000e+01,   8.25000000e+01,   8.35000000e+01,\n",
       "          8.45000000e+01,   8.55000000e+01,   8.65000000e+01,\n",
       "          8.75000000e+01,   8.85000000e+01,   8.95000000e+01,\n",
       "          9.05000000e+01,   9.15000000e+01,   9.25000000e+01,\n",
       "          9.35000000e+01,   9.45000000e+01,   9.55000000e+01,\n",
       "          9.65000000e+01,   9.75000000e+01,   9.85000000e+01,\n",
       "          9.95000000e+01,   1.00500000e+02,   1.01500000e+02,\n",
       "          1.02500000e+02,   1.03500000e+02,   1.04500000e+02,\n",
       "          1.05500000e+02,   1.06500000e+02,   1.07500000e+02,\n",
       "          1.08500000e+02,   1.09500000e+02,   1.10500000e+02,\n",
       "          1.11500000e+02,   1.12500000e+02,   1.13500000e+02,\n",
       "          1.14500000e+02,   1.15500000e+02,   1.16500000e+02,\n",
       "          1.17500000e+02,   1.18500000e+02,   1.19500000e+02,\n",
       "          1.20500000e+02,   1.21500000e+02,   1.22500000e+02,\n",
       "          1.23500000e+02,   1.24500000e+02,   1.25500000e+02,\n",
       "          1.26500000e+02,   1.27500000e+02,   1.28500000e+02,\n",
       "          1.29500000e+02,   1.30500000e+02,   1.31500000e+02,\n",
       "          1.32500000e+02,   1.33500000e+02,   1.34500000e+02,\n",
       "          1.35500000e+02,   1.36500000e+02,   1.37500000e+02,\n",
       "          1.38500000e+02,   1.39500000e+02,   1.40500000e+02,\n",
       "          1.41500000e+02,   1.42500000e+02,   1.43500000e+02,\n",
       "          1.44500000e+02,   1.45500000e+02,   1.46500000e+02,\n",
       "          1.47500000e+02,   1.48500000e+02,   1.49500000e+02,\n",
       "          1.50500000e+02,   1.51500000e+02,   1.52500000e+02,\n",
       "          1.53500000e+02,   1.54500000e+02,   1.55500000e+02,\n",
       "          1.56500000e+02,   1.57500000e+02,   1.58500000e+02,\n",
       "          1.59500000e+02,   1.60500000e+02,   1.61500000e+02,\n",
       "          1.62500000e+02,   1.63500000e+02,   1.64500000e+02,\n",
       "          1.65500000e+02,   1.66500000e+02,   1.67500000e+02,\n",
       "          1.68500000e+02,   1.69500000e+02,   1.70500000e+02,\n",
       "          1.71500000e+02,   1.72500000e+02,   1.73500000e+02,\n",
       "          1.74500000e+02,   1.75500000e+02,   1.76500000e+02,\n",
       "          1.77500000e+02,   1.78500000e+02,   1.79500000e+02,\n",
       "          1.80500000e+02,   1.81500000e+02,   1.82500000e+02,\n",
       "          1.83500000e+02,   1.84500000e+02,   1.85500000e+02,\n",
       "          1.86500000e+02,   1.87500000e+02,   1.88500000e+02,\n",
       "          1.89500000e+02,   1.90500000e+02,   1.91500000e+02,\n",
       "          1.92500000e+02,   1.93500000e+02,   1.94500000e+02,\n",
       "          1.95500000e+02,   1.96500000e+02,   1.97500000e+02,\n",
       "          1.98500000e+02,   1.99500000e+02,   2.00500000e+02,\n",
       "          2.01500000e+02,   2.02500000e+02,   2.03500000e+02,\n",
       "          2.04500000e+02,   2.05500000e+02,   2.06500000e+02,\n",
       "          2.07500000e+02,   2.08500000e+02,   2.09500000e+02,\n",
       "          2.10500000e+02,   2.11500000e+02,   2.12500000e+02,\n",
       "          2.13500000e+02,   2.14500000e+02,   2.15500000e+02,\n",
       "          2.16500000e+02,   2.17500000e+02,   2.18500000e+02,\n",
       "          2.19500000e+02,   2.20500000e+02,   2.21500000e+02,\n",
       "          2.22500000e+02,   2.23500000e+02,   2.24500000e+02,\n",
       "          2.25500000e+02,   2.26500000e+02,   2.27500000e+02,\n",
       "          2.28500000e+02,   2.29500000e+02,   2.30500000e+02,\n",
       "          2.31500000e+02,   2.32500000e+02,   2.33500000e+02,\n",
       "          2.34500000e+02,   2.35500000e+02,   2.36500000e+02,\n",
       "          2.37500000e+02,   2.38500000e+02,   2.39500000e+02,\n",
       "          2.40500000e+02,   2.41500000e+02,   2.42500000e+02,\n",
       "          2.43500000e+02,   2.44500000e+02,   2.45500000e+02,\n",
       "          2.46500000e+02,   2.47500000e+02,   2.48500000e+02,\n",
       "          2.49500000e+02,   2.50500000e+02,   2.51500000e+02,\n",
       "          2.52500000e+02,   2.53500000e+02,   2.54500000e+02,\n",
       "          2.55500000e+02,   2.56500000e+02,   2.57500000e+02,\n",
       "          2.58500000e+02,   2.59500000e+02,   2.60500000e+02,\n",
       "          2.61500000e+02,   2.62500000e+02,   2.63500000e+02,\n",
       "          2.64500000e+02,   2.65500000e+02,   2.66500000e+02,\n",
       "          2.67500000e+02,   2.68500000e+02,   2.69500000e+02,\n",
       "          2.70500000e+02,   2.71500000e+02,   2.72500000e+02,\n",
       "          2.73500000e+02,   2.74500000e+02,   2.75500000e+02,\n",
       "          2.76500000e+02,   2.77500000e+02,   2.78500000e+02,\n",
       "          2.79500000e+02,   2.80500000e+02,   2.81500000e+02,\n",
       "          2.82500000e+02,   2.83500000e+02,   2.84500000e+02,\n",
       "          2.85500000e+02,   2.86500000e+02,   2.87500000e+02,\n",
       "          2.88500000e+02,   2.89500000e+02,   2.90500000e+02,\n",
       "          2.91500000e+02,   2.92500000e+02,   2.93500000e+02,\n",
       "          2.94500000e+02,   2.95500000e+02,   2.96500000e+02,\n",
       "          2.97500000e+02,   2.98500000e+02,   2.99500000e+02,\n",
       "          3.00500000e+02,   3.01500000e+02,   3.02500000e+02,\n",
       "          3.03500000e+02,   3.04500000e+02,   3.05500000e+02,\n",
       "          3.06500000e+02,   3.07500000e+02,   3.08500000e+02,\n",
       "          3.09500000e+02,   3.10500000e+02,   3.11500000e+02,\n",
       "          3.12500000e+02,   3.13500000e+02,   3.14500000e+02,\n",
       "          3.15500000e+02,   3.16500000e+02,   3.17500000e+02,\n",
       "          3.18500000e+02,   3.19500000e+02,   3.20500000e+02,\n",
       "          3.21500000e+02,   3.22500000e+02,   3.23500000e+02,\n",
       "          3.24500000e+02,   3.25500000e+02,   3.26500000e+02,\n",
       "          3.27500000e+02,   3.28500000e+02,   3.29500000e+02,\n",
       "          3.30500000e+02,   3.31500000e+02,   3.32500000e+02,\n",
       "          3.33500000e+02,   3.34500000e+02,   3.35500000e+02,\n",
       "          3.36500000e+02,   3.37500000e+02,   3.38500000e+02,\n",
       "          3.39500000e+02,   3.40500000e+02,   3.41500000e+02,\n",
       "          3.42500000e+02,   3.43500000e+02,   3.44500000e+02,\n",
       "          3.45500000e+02,   3.46500000e+02,   3.47500000e+02,\n",
       "          3.48500000e+02,   3.49500000e+02,   3.50500000e+02,\n",
       "          3.51500000e+02,   3.52500000e+02,   3.53500000e+02,\n",
       "          3.54500000e+02,   3.55500000e+02,   3.56500000e+02,\n",
       "          3.57500000e+02,   3.58500000e+02,   3.59500000e+02,\n",
       "          3.60500000e+02,   3.61500000e+02,   3.62500000e+02,\n",
       "          3.63500000e+02,   3.64500000e+02,   3.65500000e+02,\n",
       "          3.66500000e+02,   3.67500000e+02,   3.68500000e+02,\n",
       "          3.69500000e+02,   3.70500000e+02,   3.71500000e+02,\n",
       "          3.72500000e+02,   3.73500000e+02,   3.74500000e+02,\n",
       "          3.75500000e+02,   3.76500000e+02,   3.77500000e+02,\n",
       "          3.78500000e+02,   3.79500000e+02,   3.80500000e+02,\n",
       "          3.81500000e+02,   3.82500000e+02,   3.83500000e+02,\n",
       "          3.84500000e+02,   3.85500000e+02,   3.86500000e+02,\n",
       "          3.87500000e+02,   3.88500000e+02,   3.89500000e+02,\n",
       "          3.90500000e+02,   3.91500000e+02,   3.92500000e+02,\n",
       "          3.93500000e+02,   3.94500000e+02,   3.95500000e+02,\n",
       "          3.96500000e+02,   3.97500000e+02,   3.98500000e+02,\n",
       "          3.99500000e+02,   4.00500000e+02,   4.01500000e+02,\n",
       "          4.02500000e+02,   4.03500000e+02,   4.04500000e+02,\n",
       "          4.05500000e+02,   4.06500000e+02,   4.07500000e+02,\n",
       "          4.08500000e+02,   4.09500000e+02,   4.10500000e+02,\n",
       "          4.11500000e+02,   4.12500000e+02,   4.13500000e+02,\n",
       "          4.14500000e+02,   4.15500000e+02,   4.16500000e+02,\n",
       "          4.17500000e+02,   4.18500000e+02,   4.19500000e+02,\n",
       "          4.20500000e+02,   4.21500000e+02,   4.22500000e+02,\n",
       "          4.23500000e+02,   4.24500000e+02,   4.25500000e+02,\n",
       "          4.26500000e+02,   4.27500000e+02,   4.28500000e+02,\n",
       "          4.29500000e+02,   4.30500000e+02,   4.31500000e+02,\n",
       "          4.32500000e+02,   4.33500000e+02,   4.34500000e+02,\n",
       "          4.35500000e+02,   4.36500000e+02,   4.37500000e+02,\n",
       "          4.38500000e+02,   4.39500000e+02,   4.40500000e+02,\n",
       "          4.41500000e+02,   4.42500000e+02,   4.43500000e+02,\n",
       "          4.44500000e+02,   4.45500000e+02,   4.46500000e+02,\n",
       "          4.47500000e+02,   4.48500000e+02,   4.49500000e+02,\n",
       "          4.50500000e+02,   4.51500000e+02,   4.52500000e+02,\n",
       "          4.53500000e+02,   4.54500000e+02,   4.55500000e+02,\n",
       "          4.56500000e+02,   4.57500000e+02,   4.58500000e+02,\n",
       "          4.59500000e+02,   4.60500000e+02,   4.61500000e+02,\n",
       "          4.62500000e+02,   4.63500000e+02,   4.64500000e+02,\n",
       "          4.65500000e+02,   4.66500000e+02,   4.67500000e+02,\n",
       "          4.68500000e+02,   4.69500000e+02,   4.70500000e+02,\n",
       "          4.71500000e+02,   4.72500000e+02,   4.73500000e+02,\n",
       "          4.74500000e+02,   4.75500000e+02,   4.76500000e+02,\n",
       "          4.77500000e+02,   4.78500000e+02,   4.79500000e+02,\n",
       "          4.80500000e+02,   4.81500000e+02,   4.82500000e+02,\n",
       "          4.83500000e+02,   4.84500000e+02,   4.85500000e+02,\n",
       "          4.86500000e+02,   4.87500000e+02,   4.88500000e+02,\n",
       "          4.89500000e+02,   4.90500000e+02,   4.91500000e+02,\n",
       "          4.92500000e+02,   4.93500000e+02,   4.94500000e+02,\n",
       "          4.95500000e+02,   4.96500000e+02,   4.97500000e+02,\n",
       "          4.98500000e+02,   4.99500000e+02,   5.00500000e+02,\n",
       "          5.01500000e+02,   5.02500000e+02,   5.03500000e+02,\n",
       "          5.04500000e+02,   5.05500000e+02,   5.06500000e+02,\n",
       "          5.07500000e+02,   5.08500000e+02,   5.09500000e+02,\n",
       "          5.10500000e+02,   5.11500000e+02,   5.12500000e+02,\n",
       "          5.13500000e+02,   5.14500000e+02,   5.15500000e+02,\n",
       "          5.16500000e+02,   5.17500000e+02,   5.18500000e+02,\n",
       "          5.19500000e+02,   5.20500000e+02,   5.21500000e+02,\n",
       "          5.22500000e+02,   5.23500000e+02,   5.24500000e+02,\n",
       "          5.25500000e+02,   5.26500000e+02,   5.27500000e+02,\n",
       "          5.28500000e+02,   5.29500000e+02,   5.30500000e+02,\n",
       "          5.31500000e+02,   5.32500000e+02,   5.33500000e+02,\n",
       "          5.34500000e+02,   5.35500000e+02,   5.36500000e+02,\n",
       "          5.37500000e+02,   5.38500000e+02,   5.39500000e+02,\n",
       "          5.40500000e+02,   5.41500000e+02,   5.42500000e+02,\n",
       "          5.43500000e+02,   5.44500000e+02,   5.45500000e+02,\n",
       "          5.46500000e+02,   5.47500000e+02,   5.48500000e+02,\n",
       "          5.49500000e+02,   5.50500000e+02,   5.51500000e+02,\n",
       "          5.52500000e+02,   5.53500000e+02,   5.54500000e+02,\n",
       "          5.55500000e+02,   5.56500000e+02,   5.57500000e+02,\n",
       "          5.58500000e+02,   5.59500000e+02,   5.60500000e+02,\n",
       "          5.61500000e+02,   5.62500000e+02,   5.63500000e+02,\n",
       "          5.64500000e+02,   5.65500000e+02,   5.66500000e+02,\n",
       "          5.67500000e+02,   5.68500000e+02,   5.69500000e+02,\n",
       "          5.70500000e+02,   5.71500000e+02,   5.72500000e+02,\n",
       "          5.73500000e+02,   5.74500000e+02,   5.75500000e+02,\n",
       "          5.76500000e+02,   5.77500000e+02,   5.78500000e+02,\n",
       "          5.79500000e+02,   5.80500000e+02,   5.81500000e+02,\n",
       "          5.82500000e+02,   5.83500000e+02,   5.84500000e+02,\n",
       "          5.85500000e+02,   5.86500000e+02,   5.87500000e+02,\n",
       "          5.88500000e+02,   5.89500000e+02,   5.90500000e+02,\n",
       "          5.91500000e+02,   5.92500000e+02,   5.93500000e+02,\n",
       "          5.94500000e+02,   5.95500000e+02,   5.96500000e+02,\n",
       "          5.97500000e+02,   5.98500000e+02,   5.99500000e+02,\n",
       "          6.00500000e+02,   6.01500000e+02,   6.02500000e+02,\n",
       "          6.03500000e+02,   6.04500000e+02,   6.05500000e+02,\n",
       "          6.06500000e+02,   6.07500000e+02,   6.08500000e+02,\n",
       "          6.09500000e+02,   6.10500000e+02,   6.11500000e+02,\n",
       "          6.12500000e+02,   6.13500000e+02,   6.14500000e+02,\n",
       "          6.15500000e+02,   6.16500000e+02,   6.17500000e+02,\n",
       "          6.18500000e+02,   6.19500000e+02,   6.20500000e+02,\n",
       "          6.21500000e+02,   6.22500000e+02,   6.23500000e+02,\n",
       "          6.24500000e+02,   6.25500000e+02,   6.26500000e+02,\n",
       "          6.27500000e+02,   6.28500000e+02,   6.29500000e+02,\n",
       "          6.30500000e+02,   6.31500000e+02,   6.32500000e+02,\n",
       "          6.33500000e+02,   6.34500000e+02,   6.35500000e+02,\n",
       "          6.36500000e+02,   6.37500000e+02,   6.38500000e+02,\n",
       "          6.39500000e+02,   6.40500000e+02,   6.41500000e+02,\n",
       "          6.42500000e+02,   6.43500000e+02,   6.44500000e+02,\n",
       "          6.45500000e+02,   6.46500000e+02,   6.47500000e+02,\n",
       "          6.48500000e+02,   6.49500000e+02,   6.50500000e+02,\n",
       "          6.51500000e+02,   6.52500000e+02,   6.53500000e+02,\n",
       "          6.54500000e+02,   6.55500000e+02,   6.56500000e+02,\n",
       "          6.57500000e+02,   6.58500000e+02,   6.59500000e+02,\n",
       "          6.60500000e+02,   6.61500000e+02,   6.62500000e+02,\n",
       "          6.63500000e+02,   6.64500000e+02,   6.65500000e+02,\n",
       "          6.66500000e+02,   6.67500000e+02,   6.68500000e+02,\n",
       "          6.69500000e+02,   6.70500000e+02,   6.71500000e+02,\n",
       "          6.72500000e+02,   6.73500000e+02,   6.74500000e+02,\n",
       "          6.75500000e+02,   6.76500000e+02,   6.77500000e+02,\n",
       "          6.78500000e+02,   6.79500000e+02,   6.80500000e+02,\n",
       "          6.81500000e+02,   6.82500000e+02,   6.83500000e+02,\n",
       "          6.84500000e+02,   6.85500000e+02,   6.86500000e+02,\n",
       "          6.87500000e+02,   6.88500000e+02,   6.89500000e+02,\n",
       "          6.90500000e+02,   6.91500000e+02,   6.92500000e+02,\n",
       "          6.93500000e+02,   6.94500000e+02,   6.95500000e+02,\n",
       "          6.96500000e+02,   6.97500000e+02,   6.98500000e+02,\n",
       "          6.99500000e+02,   7.00500000e+02,   7.01500000e+02,\n",
       "          7.02500000e+02,   7.03500000e+02,   7.04500000e+02,\n",
       "          7.05500000e+02,   7.06500000e+02,   7.07500000e+02,\n",
       "          7.08500000e+02,   7.09500000e+02,   7.10500000e+02,\n",
       "          7.11500000e+02,   7.12500000e+02,   7.13500000e+02,\n",
       "          7.14500000e+02,   7.15500000e+02,   7.16500000e+02,\n",
       "          7.17500000e+02,   7.18500000e+02,   7.19500000e+02,\n",
       "          7.20500000e+02,   7.21500000e+02,   7.22500000e+02,\n",
       "          7.23500000e+02,   7.24500000e+02,   7.25500000e+02,\n",
       "          7.26500000e+02,   7.27500000e+02,   7.28500000e+02,\n",
       "          7.29500000e+02,   7.30500000e+02,   7.31500000e+02,\n",
       "          7.32500000e+02,   7.33500000e+02,   7.34500000e+02,\n",
       "          7.35500000e+02,   7.36500000e+02,   7.37500000e+02,\n",
       "          7.38500000e+02,   7.39500000e+02,   7.40500000e+02,\n",
       "          7.41500000e+02,   7.42500000e+02,   7.43500000e+02,\n",
       "          7.44500000e+02,   7.45500000e+02,   7.46500000e+02,\n",
       "          7.47500000e+02,   7.48500000e+02,   7.49500000e+02,\n",
       "          7.50500000e+02,   7.51500000e+02,   7.52500000e+02,\n",
       "          7.53500000e+02,   7.54500000e+02,   7.55500000e+02,\n",
       "          7.56500000e+02,   7.57500000e+02,   7.58500000e+02,\n",
       "          7.59500000e+02,   7.60500000e+02,   7.61500000e+02,\n",
       "          7.62500000e+02,   7.63500000e+02,   7.64500000e+02,\n",
       "          7.65500000e+02,   7.66500000e+02,   7.67500000e+02,\n",
       "          7.68500000e+02,   7.69500000e+02,   7.70500000e+02,\n",
       "          7.71500000e+02,   7.72500000e+02,   7.73500000e+02,\n",
       "          7.74500000e+02,   7.75500000e+02,   7.76500000e+02,\n",
       "          7.77500000e+02,   7.78500000e+02,   7.79500000e+02,\n",
       "          7.80500000e+02,   7.81500000e+02,   7.82500000e+02,\n",
       "          7.83500000e+02,   7.84500000e+02,   7.85500000e+02,\n",
       "          7.86500000e+02,   7.87500000e+02,   7.88500000e+02,\n",
       "          7.89500000e+02,   7.90500000e+02,   7.91500000e+02,\n",
       "          7.92500000e+02,   7.93500000e+02,   7.94500000e+02,\n",
       "          7.95500000e+02,   7.96500000e+02,   7.97500000e+02,\n",
       "          7.98500000e+02,   7.99500000e+02,   8.00500000e+02,\n",
       "          8.01500000e+02,   8.02500000e+02,   8.03500000e+02,\n",
       "          8.04500000e+02,   8.05500000e+02,   8.06500000e+02,\n",
       "          8.07500000e+02,   8.08500000e+02,   8.09500000e+02,\n",
       "          8.10500000e+02,   8.11500000e+02,   8.12500000e+02,\n",
       "          8.13500000e+02,   8.14500000e+02,   8.15500000e+02,\n",
       "          8.16500000e+02,   8.17500000e+02,   8.18500000e+02,\n",
       "          8.19500000e+02,   8.20500000e+02,   8.21500000e+02,\n",
       "          8.22500000e+02,   8.23500000e+02,   8.24500000e+02,\n",
       "          8.25500000e+02,   8.26500000e+02,   8.27500000e+02,\n",
       "          8.28500000e+02,   8.29500000e+02,   8.30500000e+02,\n",
       "          8.31500000e+02,   8.32500000e+02,   8.33500000e+02,\n",
       "          8.34500000e+02,   8.35500000e+02,   8.36500000e+02,\n",
       "          8.37500000e+02,   8.38500000e+02,   8.39500000e+02,\n",
       "          8.40500000e+02,   8.41500000e+02,   8.42500000e+02,\n",
       "          8.43500000e+02,   8.44500000e+02,   8.45500000e+02,\n",
       "          8.46500000e+02,   8.47500000e+02,   8.48500000e+02,\n",
       "          8.49500000e+02,   8.50500000e+02,   8.51500000e+02,\n",
       "          8.52500000e+02,   8.53500000e+02,   8.54500000e+02,\n",
       "          8.55500000e+02,   8.56500000e+02,   8.57500000e+02,\n",
       "          8.58500000e+02,   8.59500000e+02,   8.60500000e+02,\n",
       "          8.61500000e+02,   8.62500000e+02,   8.63500000e+02,\n",
       "          8.64500000e+02,   8.65500000e+02,   8.66500000e+02,\n",
       "          8.67500000e+02,   8.68500000e+02,   8.69500000e+02,\n",
       "          8.70500000e+02,   8.71500000e+02,   8.72500000e+02,\n",
       "          8.73500000e+02,   8.74500000e+02,   8.75500000e+02,\n",
       "          8.76500000e+02,   8.77500000e+02,   8.78500000e+02,\n",
       "          8.79500000e+02,   8.80500000e+02,   8.81500000e+02,\n",
       "          8.82500000e+02,   8.83500000e+02,   8.84500000e+02,\n",
       "          8.85500000e+02,   8.86500000e+02,   8.87500000e+02,\n",
       "          8.88500000e+02,   8.89500000e+02,   8.90500000e+02,\n",
       "          8.91500000e+02,   8.92500000e+02,   8.93500000e+02,\n",
       "          8.94500000e+02,   8.95500000e+02,   8.96500000e+02,\n",
       "          8.97500000e+02,   8.98500000e+02,   8.99500000e+02,\n",
       "          9.00500000e+02,   9.01500000e+02,   9.02500000e+02,\n",
       "          9.03500000e+02,   9.04500000e+02,   9.05500000e+02,\n",
       "          9.06500000e+02,   9.07500000e+02,   9.08500000e+02,\n",
       "          9.09500000e+02,   9.10500000e+02,   9.11500000e+02,\n",
       "          9.12500000e+02,   9.13500000e+02,   9.14500000e+02,\n",
       "          9.15500000e+02,   9.16500000e+02,   9.17500000e+02,\n",
       "          9.18500000e+02,   9.19500000e+02,   9.20500000e+02,\n",
       "          9.21500000e+02,   9.22500000e+02,   9.23500000e+02,\n",
       "          9.24500000e+02,   9.25500000e+02,   9.26500000e+02,\n",
       "          9.27500000e+02,   9.28500000e+02,   9.29500000e+02,\n",
       "          9.30500000e+02,   9.31500000e+02,   9.32500000e+02,\n",
       "          9.33500000e+02,   9.34500000e+02,   9.35500000e+02,\n",
       "          9.36500000e+02,   9.37500000e+02,   9.38500000e+02,\n",
       "          9.39500000e+02,   9.40500000e+02,   9.41500000e+02,\n",
       "          9.42500000e+02,   9.43500000e+02,   9.44500000e+02,\n",
       "          9.45500000e+02,   9.46500000e+02,   9.47500000e+02,\n",
       "          9.48500000e+02,   9.49500000e+02,   9.50500000e+02,\n",
       "          9.51500000e+02,   9.52500000e+02,   9.53500000e+02,\n",
       "          9.54500000e+02,   9.55500000e+02,   9.56500000e+02,\n",
       "          9.57500000e+02,   9.58500000e+02,   9.59500000e+02,\n",
       "          9.60500000e+02,   9.61500000e+02,   9.62500000e+02,\n",
       "          9.63500000e+02,   9.64500000e+02,   9.65500000e+02,\n",
       "          9.66500000e+02,   9.67500000e+02,   9.68500000e+02,\n",
       "          9.69500000e+02,   9.70500000e+02,   9.71500000e+02,\n",
       "          9.72500000e+02,   9.73500000e+02,   9.74500000e+02,\n",
       "          9.75500000e+02,   9.76500000e+02,   9.77500000e+02,\n",
       "          9.78500000e+02,   9.79500000e+02,   9.80500000e+02,\n",
       "          9.81500000e+02,   9.82500000e+02,   9.83500000e+02,\n",
       "          9.84500000e+02,   9.85500000e+02,   9.86500000e+02,\n",
       "          9.87500000e+02,   9.88500000e+02,   9.89500000e+02,\n",
       "          9.90500000e+02,   9.91500000e+02,   9.92500000e+02,\n",
       "          9.93500000e+02,   9.94500000e+02,   9.95500000e+02,\n",
       "          9.96500000e+02,   9.97500000e+02,   9.98500000e+02,\n",
       "          9.99500000e+02]), <a list of 1000 Text xticklabel objects>)"
      ]
     },
     "execution_count": 108,
     "metadata": {},
     "output_type": "execute_result"
    }
   ],
   "source": [
    "plt.xticks(rotation=90)"
   ]
  },
  {
   "cell_type": "code",
   "execution_count": 109,
   "metadata": {
    "collapsed": false,
    "scrolled": true
   },
   "outputs": [
    {
     "data": {
      "text/plain": [
       "([<matplotlib.axis.YTick at 0x11ac299e8>],\n",
       " <a list of 1 Text yticklabel objects>)"
      ]
     },
     "execution_count": 109,
     "metadata": {},
     "output_type": "execute_result"
    }
   ],
   "source": [
    "plt.yticks(np.arange(0, 1, 10))"
   ]
  },
  {
   "cell_type": "markdown",
   "metadata": {},
   "source": [
    "Make a legend containing each topic"
   ]
  },
  {
   "cell_type": "code",
   "execution_count": 110,
   "metadata": {
    "collapsed": true
   },
   "outputs": [],
   "source": [
    "topic_labels = ['Topic #{}'.format(k) for k in range(K)]"
   ]
  },
  {
   "cell_type": "code",
   "execution_count": 111,
   "metadata": {
    "collapsed": false
   },
   "outputs": [
    {
     "data": {
      "text/plain": [
       "<matplotlib.legend.Legend at 0x14f7cf780>"
      ]
     },
     "execution_count": 111,
     "metadata": {},
     "output_type": "execute_result"
    }
   ],
   "source": [
    "plt.legend([p[0] for p in plots], topic_labels)"
   ]
  },
  {
   "cell_type": "markdown",
   "metadata": {},
   "source": [
    "save the plot"
   ]
  },
  {
   "cell_type": "code",
   "execution_count": 112,
   "metadata": {
    "collapsed": false
   },
   "outputs": [],
   "source": [
    "plt.savefig('my_fig2.png', dpi=my_dpi)"
   ]
  }
 ],
 "metadata": {
  "kernelspec": {
   "display_name": "Python 3",
   "language": "python",
   "name": "python3"
  },
  "language_info": {
   "codemirror_mode": {
    "name": "ipython",
    "version": 3
   },
   "file_extension": ".py",
   "mimetype": "text/x-python",
   "name": "python",
   "nbconvert_exporter": "python",
   "pygments_lexer": "ipython3",
   "version": "3.4.3"
  }
 },
 "nbformat": 4,
 "nbformat_minor": 0
}
